{
 "cells": [
  {
   "cell_type": "code",
   "execution_count": 24,
   "metadata": {
    "collapsed": true,
    "deletable": true,
    "editable": true
   },
   "outputs": [],
   "source": [
    "% matplotlib inline\n",
    "import matplotlib.pylab as plt\n",
    "import pandas as pd\n",
    "import numpy as np\n",
    "from scipy.optimize import curve_fit\n"
   ]
  },
  {
   "cell_type": "code",
   "execution_count": 25,
   "metadata": {
    "collapsed": false,
    "deletable": true,
    "editable": true
   },
   "outputs": [],
   "source": [
    "pg = pd.read_excel('/home/ariel/Desktop/02-04-2017_2.xlsx')\n",
    "pg1 = pd.read_excel('/home/ariel/Desktop/3-31-2017.xlsx')"
   ]
  },
  {
   "cell_type": "code",
   "execution_count": 49,
   "metadata": {
    "collapsed": false,
    "deletable": true,
    "editable": true
   },
   "outputs": [],
   "source": [
    "stdard = pg1.ix[:2,2:12].T    # cambie pg por pg1\n",
    "stdard['av'] = stdard.mean(axis=1)\n",
    "\n",
    "m, i = [], 5.0\n",
    "for n in range(len(stdard)):\n",
    "    i /=2 \n",
    "    m.append(i)\n",
    "stdard['cc'] = m\n",
    "\n",
    "stdard.loc[10,'cc'] = 0\n",
    "#stdard = stdard.iloc[[0,1,11],[2,3]]"
   ]
  },
  {
   "cell_type": "code",
   "execution_count": 43,
   "metadata": {
    "collapsed": false,
    "deletable": true,
    "editable": true
   },
   "outputs": [],
   "source": [
    "#s89o1, s89o2, s90o1, s90o2 = pg.ix[5,0:4].values.astype(int)\n",
    "#s89_1 = pg.ix[6,0:4].values.astype(int)\n",
    "#s89_2 = pg.ix[6,5:9].values.astype(int)\n",
    "#s90_1 = pg.ix[7,0:4].values.astype(int)\n",
    "#s90_2 = pg.ix[7,5:9].values.astype(int)\n",
    "libs = pg1.ix[2,:4].values.astype(int)"
   ]
  },
  {
   "cell_type": "code",
   "execution_count": 44,
   "metadata": {
    "collapsed": false,
    "deletable": true,
    "editable": true
   },
   "outputs": [],
   "source": [
    "def line(x,a,b):\n",
    "    return a*x + b\n",
    "\n",
    "x,y = zip(*stdard[['cc','av']].as_matrix())\n",
    "\n",
    "popt, pcov = curve_fit(line,x,y)\n",
    "a,b = popt"
   ]
  },
  {
   "cell_type": "markdown",
   "metadata": {
    "deletable": true,
    "editable": true
   },
   "source": [
    "<font color='blue'><font size=5>the fitting is not perfect...</font size></font color>"
   ]
  },
  {
   "cell_type": "code",
   "execution_count": 51,
   "metadata": {
    "collapsed": false,
    "deletable": true,
    "editable": true
   },
   "outputs": [
    {
     "data": {
      "text/plain": [
       "<matplotlib.text.Text at 0x7a43910>"
      ]
     },
     "execution_count": 51,
     "metadata": {},
     "output_type": "execute_result"
    },
    {
     "data": {
      "image/png": "[encoded data removed]",
      "text/plain": [
       "<matplotlib.figure.Figure at 0x75c4a10>"
      ]
     },
     "metadata": {},
     "output_type": "display_data"
    }
   ],
   "source": [
    "from scipy import stats as st\n",
    "from matplotlib import rc\n",
    "\n",
    "stdard.plot.scatter(x='cc', y='av', figsize=(5,5))\n",
    "plt.plot(x,[line(i,a,b) for i in x], color='r')\n",
    "slope, intercept, r_value, p_value, std_err = st.linregress(x,y)\n",
    "plt.text(0.25,40000,''.join([r'$R^2$ = ', \"{:.2f}\".format(r_value**2)]))"
   ]
  },
  {
   "cell_type": "code",
   "execution_count": 46,
   "metadata": {
    "collapsed": true,
    "deletable": true,
    "editable": true
   },
   "outputs": [],
   "source": [
    "def conc(y):\n",
    "    return (y-b)/a"
   ]
  },
  {
   "cell_type": "markdown",
   "metadata": {
    "deletable": true,
    "editable": true
   },
   "source": [
    "<font color='blue'><font size=5>But these are the results</font size></font color>"
   ]
  },
  {
   "cell_type": "code",
   "execution_count": 50,
   "metadata": {
    "collapsed": false,
    "deletable": true,
    "editable": true
   },
   "outputs": [
    {
     "name": "stdout",
     "output_type": "stream",
     "text": [
      "[ 0.96043134  0.74241841  0.67959691  0.70725824]\n"
     ]
    }
   ],
   "source": [
    "#keys = ['s89o1','s89o2','s90o1','s90o2','s89_1','s89_2','s90_1','s90_2']\n",
    "\n",
    "#for i,j in zip([s89o1,s89o2,s90o1,s90o2,s89_1,s89_2,s90_1,s90_2],keys):\n",
    "#    print 'sample: ',j,' = ',conc(i),' ng/uL'\n",
    "print conc(libs)"
   ]
  }
 ],
 "metadata": {
  "kernelspec": {
   "display_name": "Python 2",
   "language": "python",
   "name": "python2"
  },
  "language_info": {
   "codemirror_mode": {
    "name": "ipython",
    "version": 2
   },
   "file_extension": ".py",
   "mimetype": "text/x-python",
   "name": "python",
   "nbconvert_exporter": "python",
   "pygments_lexer": "ipython2",
   "version": "2.7.3"
  }
 },
 "nbformat": 4,
 "nbformat_minor": 2
}
