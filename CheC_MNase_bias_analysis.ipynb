{
 "cells": [
  {
   "cell_type": "code",
   "execution_count": 1,
   "metadata": {
    "collapsed": true,
    "deletable": true,
    "editable": true
   },
   "outputs": [],
   "source": [
    "import matplotlib.pyplot as plt\n",
    "import pandas as pd\n",
    "import numpy as np\n",
    "%matplotlib inline"
   ]
  },
  {
   "cell_type": "code",
   "execution_count": 98,
   "metadata": {
    "collapsed": false,
    "deletable": true,
    "editable": true
   },
   "outputs": [],
   "source": [
    "df =pd.read_csv('GC_content_SGD.csv')\n",
    "df.columns = np.append('locus',df.columns[1:].values)\n",
    "df.set_index(['locus'], inplace=True)"
   ]
  },
  {
   "cell_type": "code",
   "execution_count": 102,
   "metadata": {
    "collapsed": false,
    "deletable": true,
    "editable": true
   },
   "outputs": [],
   "source": [
    "df2 = df.ix[:,12::2]\n",
    "\n",
    "for i in range(len(df2.iloc[0])):\n",
    "    df2.ix[:,i] = df2.ix[:,i]/(i+1)"
   ]
  },
  {
   "cell_type": "code",
   "execution_count": 103,
   "metadata": {
    "collapsed": false,
    "deletable": true,
    "editable": true
   },
   "outputs": [
    {
     "name": "stdout",
     "output_type": "stream",
     "text": [
      "0.38% GC the whole yeast genome \n"
     ]
    }
   ],
   "source": [
    "# In the entire yeast genome\n",
    "df3 = {'A':3730181.0, 'C':2313714.0, 'G':2309288.0, 'T':3718149.0}\n",
    "df3.values()\n",
    "print '{:.2f}% GC the whole yeast genome '.format((df3['G']+df3['C'])/np.sum(df3.values()))"
   ]
  },
  {
   "cell_type": "code",
   "execution_count": 104,
   "metadata": {
    "collapsed": false,
    "deletable": true,
    "editable": true
   },
   "outputs": [
    {
     "name": "stdout",
     "output_type": "stream",
     "text": [
      "GC_tss-100    34.479633\n",
      "GC_tss-200    35.588718\n",
      "GC_tss-300    36.342859\n",
      "GC_tss-400    37.042920\n",
      "GC_tss-500    37.556281\n",
      "GC_tss-600    37.896531\n",
      "dtype: float64   GC_tss-100    16.705650\n",
      "GC_tss-200    14.013911\n",
      "GC_tss-300    12.780536\n",
      "GC_tss-400    11.729789\n",
      "GC_tss-500    10.907102\n",
      "GC_tss-600    10.253346\n",
      "dtype: float64   GC_tss-100    60.000000\n",
      "GC_tss-200    60.500000\n",
      "GC_tss-300    60.333333\n",
      "GC_tss-400    60.500000\n",
      "GC_tss-500    60.600000\n",
      "GC_tss-600    59.333333\n",
      "dtype: float64   GC_tss-100    14.000000\n",
      "GC_tss-200    19.500000\n",
      "GC_tss-300    20.000000\n",
      "GC_tss-400    22.500000\n",
      "GC_tss-500    24.600000\n",
      "GC_tss-600    25.666667\n",
      "dtype: float64\n"
     ]
    },
    {
     "data": {
      "image/png": "[encoded data removed]",
      "text/plain": [
       "<matplotlib.figure.Figure at 0xa029f90>"
      ]
     },
     "metadata": {},
     "output_type": "display_data"
    }
   ],
   "source": [
    "plt.figure(figsize=(10,8))\n",
    "df2.boxplot(fontsize=12)\n",
    "print np.mean(df2),\" \",np.std(df2)*100/np.mean(df2),\" \",np.max(df2),\" \",np.min(df2)"
   ]
  },
  {
   "cell_type": "markdown",
   "metadata": {
    "deletable": true,
    "editable": true
   },
   "source": [
    "en 100bp el GC content es menor que en el resto del genoma. std es mayor en 100bp y se va achicando cuanto mas bases contamos desde tss o start. Hay differentes grupos de genes con respecto a GC content de las 100 primeras bases. voy a correr sklearn para buscar clusters de genes con diff. GC content en las 100bp."
   ]
  },
  {
   "cell_type": "code",
   "execution_count": 105,
   "metadata": {
    "collapsed": false,
    "deletable": true,
    "editable": true
   },
   "outputs": [],
   "source": [
    "from sklearn.cluster import KMeans\n",
    "from sklearn import metrics\n",
    "\n",
    "X = df2['GC_tss-100'].as_matrix()\n",
    "Y = X.reshape(-1,1)\n",
    "kmeans = KMeans(n_clusters=2, random_state=0).fit(Y)"
   ]
  },
  {
   "cell_type": "code",
   "execution_count": 106,
   "metadata": {
    "collapsed": false,
    "deletable": true,
    "editable": true
   },
   "outputs": [],
   "source": [
    "df['GC_cluster'] = kmeans.labels_"
   ]
  },
  {
   "cell_type": "code",
   "execution_count": 112,
   "metadata": {
    "collapsed": false,
    "deletable": true,
    "editable": true
   },
   "outputs": [],
   "source": [
    "#coact = pd.read_csv('saga_vs_tfiid.csv')\n",
    "coact = []\n",
    "for i in open('saga_vs_tfiid.csv'):\n",
    "    coact.append(i.strip().split(','))\n",
    "coact = pd.DataFrame(coact)\n",
    "coact.columns = coact.iloc[0]\n",
    "coact.drop(coact.index[[0]], inplace=True)\n",
    "coact.set_index('Locus', inplace=True)"
   ]
  },
  {
   "cell_type": "code",
   "execution_count": 113,
   "metadata": {
    "collapsed": false,
    "deletable": true,
    "editable": true
   },
   "outputs": [],
   "source": [
    "full_df = pd.concat([df,coact], axis=1)"
   ]
  },
  {
   "cell_type": "code",
   "execution_count": 145,
   "metadata": {
    "collapsed": false,
    "deletable": true,
    "editable": true
   },
   "outputs": [],
   "source": [
    "full_df.loc[full_df['SAGA/TFIID']=='TFIID-dominated','SAGA/TFIID']=1 \n",
    "full_df.loc[full_df['SAGA/TFIID']=='SAGA-dominated','SAGA/TFIID']=0\n",
    "full_df = full_df[(full_df['SAGA/TFIID']==1) | (full_df['SAGA/TFIID']==0)]\n",
    "full_df = full_df.dropna()"
   ]
  },
  {
   "cell_type": "code",
   "execution_count": 166,
   "metadata": {
    "collapsed": false
   },
   "outputs": [
    {
     "data": {
      "text/plain": [
       "array([[ 1.        , -0.02565857],\n",
       "       [-0.02565857,  1.        ]])"
      ]
     },
     "execution_count": 166,
     "metadata": {},
     "output_type": "execute_result"
    }
   ],
   "source": [
    "#np.corrcoef(np.as_matrix(full_df[['GC_cluster','SAGA/TFIID']]))\n",
    "np.corrcoef(np.asmatrix(full_df['GC_cluster']).astype(int),np.asmatrix(full_df['SAGA/TFIID']).astype(int))\n"
   ]
  },
  {
   "cell_type": "markdown",
   "metadata": {},
   "source": [
    "Basically, there is no correlation AT ALL between CoActivators and GC content of these 100bp."
   ]
  },
  {
   "cell_type": "code",
   "execution_count": null,
   "metadata": {
    "collapsed": true
   },
   "outputs": [],
   "source": []
  }
 ],
 "metadata": {
  "kernelspec": {
   "display_name": "Python 2",
   "language": "python",
   "name": "python2"
  },
  "language_info": {
   "codemirror_mode": {
    "name": "ipython",
    "version": 2
   },
   "file_extension": ".py",
   "mimetype": "text/x-python",
   "name": "python",
   "nbconvert_exporter": "python",
   "pygments_lexer": "ipython2",
   "version": "2.7.12"
  }
 },
 "nbformat": 4,
 "nbformat_minor": 2
}
