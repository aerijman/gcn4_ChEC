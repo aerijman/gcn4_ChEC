{
 "cells": [
  {
   "cell_type": "markdown",
   "metadata": {},
   "source": [
    "<style>\n",
    "    .text_cell_render\n",
    "    font-family: Times New Roman, serif\n",
    "    </style>\n",
    "    <font color='Black'><font size=\"5\">Encontrar modelo de distribucion de la  senal de MNase-coupled a Gcn4 y predecir posibles interacciones de Gcn4 con dif erentes CoActivators</font>"
   ]
  },
  {
   "cell_type": "code",
   "execution_count": 1,
   "metadata": {
    "collapsed": false
   },
   "outputs": [
    {
     "name": "stderr",
     "output_type": "stream",
     "text": [
      "/home/ariel/.local/lib/python2.7/site-packages/matplotlib/__init__.py:878: UserWarning: axes.color_cycle is deprecated and replaced with axes.prop_cycle; please use the latter.\n",
      "  warnings.warn(self.msg_depr % (key, alt_key))\n"
     ]
    }
   ],
   "source": [
    "%matplotlib inline\n",
    "import matplotlib.pylab as plt\n",
    "import pandas as pd\n",
    "import numpy as np\n",
    "import scipy \n",
    "import seaborn as sns\n",
    "\n",
    "from sklearn.neighbors import KernelDensity\n",
    "from sklearn.model_selection import GridSearchCV\n",
    "\n",
    "from numpy import NaN, Inf, arange, isscalar, asarray, array"
   ]
  },
  {
   "cell_type": "markdown",
   "metadata": {},
   "source": [
    "<style>\n",
    "    .text_cell_render\n",
    "    font-family: Times New Roman, serif\n",
    "</style>\n",
    "    <font color='blue'><font size=\"5\">Dictionary of Roman Numbers. Will be used to access each chromosome faster</font>"
   ]
  },
  {
   "cell_type": "code",
   "execution_count": 2,
   "metadata": {
    "collapsed": true
   },
   "outputs": [],
   "source": [
    "roman_numbers = {'I':'1','II':'2','III':'3','IV':'4','V':'5','VI':'6','VII':'7',\\\n",
    "                 'VIII':'8','IX':'9','X':'10','XI':'11','XII':'12','XIII':'13','XIV':'14',\\\n",
    "                 'XV':'15','XVI':'16','XVII':'17','M':'M'}\n",
    "\n",
    "inv_roman = {v: k for k, v in roman_numbers.iteritems()}\n",
    "\n",
    "promoter_length = 800"
   ]
  },
  {
   "cell_type": "markdown",
   "metadata": {},
   "source": [
    "<style>\n",
    "    .text_cell_render\n",
    "    font-family: Times New Roman, serif\n",
    "</style>\n",
    "    <font color='blue'><font size=\"5\">FUNC: Definir el promoter length y abrir SGD dataset</font>"
   ]
  },
  {
   "cell_type": "code",
   "execution_count": 3,
   "metadata": {
    "collapsed": true
   },
   "outputs": [],
   "source": [
    "def open_sgd(promoter_length):\n",
    "\n",
    "    # open sgd file into a dataframe\n",
    "    sgd = pd.read_csv('./SGD.tsv', delimiter='\\t')\n",
    "\n",
    "    #assign column names and use only the 'ORF' rows\n",
    "    sgd.columns = ['n0','ORF_or_what','n1','locus','gene','n2','n3','n4'\\\n",
    "                  ,'chromosome','start','stop','W/C','n5','n6','n7','n8']\n",
    "    sgd = sgd[sgd['ORF_or_what']=='ORF']\n",
    "    \n",
    "    # get rid of non-informative columns and 2-micron chromosome\n",
    "    sgd = sgd.drop(['ORF_or_what','n0','n1','n2','n3','n4','n5','n6','n7','n8'],1).set_index('locus')\n",
    "    sgd = sgd.ix[sgd.chromosome!='2-micron']\n",
    "\n",
    "    # -1 to Creek and 1 to Watson\n",
    "    sgd.loc[sgd['W/C']=='C', 'W/C']=-1\n",
    "    sgd.loc[sgd['W/C']=='W', 'W/C']=1\n",
    "    \n",
    "    # create the column 'start promoter' and replace negative numbers \\\n",
    "    # with 0 (promoters that are <600bp form the start of the chromosome)\n",
    "    sgd['start_promoter'] = sgd['start']-(sgd['W/C']*promoter_length)\n",
    "    sgd.loc[sgd['start_promoter']<0,'start_promoter']=0\n",
    "\n",
    "    #sgd['promoter_median'] = (sgd['start'] + sgd['start_promoter']) / 2\n",
    "    #sgd = sgd.sort_values(['chromosome','promoter_median'])\n",
    "    #sgd.reset_index(inplace=True)\n",
    "    \n",
    "    return sgd"
   ]
  },
  {
   "cell_type": "markdown",
   "metadata": {},
   "source": [
    "<style>\n",
    "    .text_cell_render\n",
    "    font-family: Times New Roman, serif\n",
    "</style>\n",
    "    <font color='black'><font size=\"4\">700bp porque hay promotores con peaks que si no terminan, el area computada es bastante incorrecta.\n",
    "    testear y evaluar si conviene dejar aparte los genes que comparten promoter hasta 700bp</font>"
   ]
  },
  {
   "cell_type": "code",
   "execution_count": 4,
   "metadata": {
    "collapsed": true
   },
   "outputs": [],
   "source": [
    "sgd = open_sgd(700)\n",
    "sgd = sgd[sgd.chromosome.isin(map(str,range(1,17)))]"
   ]
  },
  {
   "cell_type": "markdown",
   "metadata": {},
   "source": [
    "<style>\n",
    "    .text_cell_render\n",
    "    font-family: Times New Roman, serif\n",
    "</style>\n",
    "    <font color='blue'><font size=\"5\">FUNC: Abrir wiggle file</font>"
   ]
  },
  {
   "cell_type": "code",
   "execution_count": 5,
   "metadata": {
    "collapsed": true
   },
   "outputs": [],
   "source": [
    "def open_wig(wigfile):\n",
    "\n",
    "# Open the wig file and make a pointer to where each chromosomes start\n",
    "    #wig, w_pointer = [i.strip('\\n').split('\\t')[:2] for i in open(wigfile)], {} # this was for opening files, not from github  \n",
    "    wig, w_pointer = wigfile, {}\n",
    "    wig2, n = [], 0\n",
    "    for i in wig[1:]:\n",
    "        if len(i)==1:\n",
    "            w_pointer[roman_numbers[i[0][22:]]] = n\n",
    "\n",
    "        else:\n",
    "            if int(i[1])>=0:                   ## era >=20...\n",
    "                wig2.append(i)\n",
    "                n+=1\n",
    "        \n",
    "    # the last pointer to the end of the file, when looking for a gene in chromosome 17 and there is no NEXT chromosome\n",
    "    #w_pointer['17']=n \n",
    "\n",
    "    # wig into dataframe\n",
    "    wig = pd.DataFrame(wig2)\n",
    "    wig.columns = ['position','reads']\n",
    "\n",
    "    return wig, w_pointer"
   ]
  },
  {
   "cell_type": "markdown",
   "metadata": {},
   "source": [
    "<style>\n",
    "    .text_cell_render\n",
    "    font-family: Times New Roman, serif\n",
    "</style>\n",
    "    <font color='blue'><font size=\"5\">FUNC: Dado el locus, devuelve los counts de wiggle</font>"
   ]
  },
  {
   "cell_type": "code",
   "execution_count": 6,
   "metadata": {
    "collapsed": true
   },
   "outputs": [],
   "source": [
    "def retrieve_positions(locus, sgd, wig, w_pointer):\n",
    "\n",
    "    # chromosomes as pointer for the wig file\n",
    "    this_chromosome = int(sgd[sgd.index==locus].values[0][1])\n",
    "    this = w_pointer[str(this_chromosome)]\n",
    "\n",
    "    # assign the key to NOT to be the current chromosome\n",
    "    key = [1 if this_chromosome>7 else 10][0]\n",
    "\n",
    "    # Now go and find me the closest chromosome in the wig file (they are not in order!!)\n",
    "    for i,j in w_pointer.iteritems():\n",
    "        if j-this < abs(w_pointer[str(key)]-this) and j>this and i != this_chromosome:\n",
    "            key = i \n",
    "    next = w_pointer[str(key)]\n",
    "\n",
    "    # promoter positions to find in the wig \n",
    "    promoter_positions = [int(i) for i in sgd[sgd.index==locus][['start_promoter', 'start']].as_matrix()[0]]\n",
    "    \n",
    "    # In case the gene is in the Creek direction\n",
    "    if sgd[sgd.index==locus]['W/C'].values[0]==-1:\n",
    "        promoter_positions = [promoter_positions[1],promoter_positions[0]]\n",
    "\n",
    "    # restricting the wig to the chromosome and the positions \n",
    "    Gene_df =  wig[(wig.index > this) & (wig.index < next)]\n",
    "\n",
    "    # Only if the wig file contains counts for this gene, otherwise return False!\n",
    "    if Gene_df.position.empty == False:\n",
    "        Gene_df = Gene_df[(Gene_df.position.astype(int)>promoter_positions[0]) & (Gene_df.position.astype(int)<promoter_positions[1])]\n",
    "        return Gene_df.astype(int)\n",
    "    else:\n",
    "        return pd.DataFrame([])"
   ]
  },
  {
   "cell_type": "markdown",
   "metadata": {},
   "source": [
    "<style>\n",
    "    .text_cell_render\n",
    "    font-family: Times New Roman, serif\n",
    "</style>\n",
    "    <font color='blue'><font size=\"5\">FUNC: Dado el locus, devuelve los counts de wiggle del promoter or ORF</font>"
   ]
  },
  {
   "cell_type": "code",
   "execution_count": 7,
   "metadata": {
    "collapsed": false
   },
   "outputs": [],
   "source": [
    "def retrieve_wiggle(locus, sgd, wig, w_pointer, region='promoter'):\n",
    "\n",
    "    # chromosomes as pointer for the wig file\n",
    "    this_chromosome = int(sgd[sgd.index==locus].values[0][1])\n",
    "    this = w_pointer[str(this_chromosome)]\n",
    "\n",
    "    # assign the key to NOT to be the current chromosome\n",
    "    key = [1 if this_chromosome>7 else 10][0]\n",
    "\n",
    "    # Now go and find me the closest chromosome in the wig file (they are not in order!!)\n",
    "    for i,j in w_pointer.iteritems():\n",
    "        if j-this < abs(w_pointer[str(key)]-this) and j>this and i != this_chromosome:\n",
    "            key = i \n",
    "    next = w_pointer[str(key)]\n",
    "\n",
    "    # promoter positions to find in the wig \n",
    "    A = sgd[sgd.index==locus]['start'].values[0]\n",
    "    B = (A + promoter_length*sgd.loc[sgd.index==locus,'W/C'][0]) if region=='orf' else (A - promoter_length*sgd.loc[sgd.index==locus,'W/C'][0])\n",
    "    promoter_positions = [A,B] if region=='orf' else [B,A]\n",
    "    \n",
    "    # In case the gene is in the Creek direction\n",
    "    if sgd[sgd.index==locus]['W/C'].values[0]==-1:\n",
    "        promoter_positions = [promoter_positions[1],promoter_positions[0]]\n",
    "\n",
    "    # restricting the wig to the chromosome and the positions \n",
    "    Gene_df =  wig[(wig.index > this) & (wig.index < next)]\n",
    "\n",
    "    # Only if the wig file contains counts for this gene, otherwise return False!\n",
    "    if Gene_df.position.empty == False:\n",
    "        Gene_df = Gene_df[(Gene_df.position.astype(int)>promoter_positions[0]) & (Gene_df.position.astype(int)<promoter_positions[1])]\n",
    "        return Gene_df.astype(int)\n",
    "    else:\n",
    "        return pd.DataFrame([])"
   ]
  },
  {
   "cell_type": "markdown",
   "metadata": {},
   "source": [
    "<style>\n",
    "    .text_cell_render\n",
    "    font-family: Times New Roman, serif\n",
    "</style>\n",
    "    <font color='blue'><font size=\"5\">FUNC: Lee archivo de Github</font>"
   ]
  },
  {
   "cell_type": "code",
   "execution_count": 8,
   "metadata": {
    "collapsed": true
   },
   "outputs": [],
   "source": [
    "def getFromGit(link):\n",
    "    \n",
    "        from html2text import html2text\n",
    "        import requests\n",
    "    \n",
    "        f = requests.get(link)\n",
    "    \n",
    "        return f.text.encode('ascii','replace')"
   ]
  },
  {
   "cell_type": "markdown",
   "metadata": {},
   "source": [
    "<style>\n",
    "    .text_cell_render\n",
    "    font-family: Times New Roman, serif\n",
    "</style>\n",
    "    <font color='blue'><font size=\"5\">FUNC: Busco la bw optima para el kernel</font>"
   ]
  },
  {
   "cell_type": "code",
   "execution_count": 9,
   "metadata": {
    "collapsed": true
   },
   "outputs": [],
   "source": [
    "def find_Kernel_best_bandwidth(x,y):\n",
    "\n",
    "    # Prepare \"histogram-like\" data\n",
    "    histo = []\n",
    "    for i in range(len(y)):\n",
    "        for j in range(y[i]):\n",
    "            histo.append(x[i])\n",
    "    histo = np.array(histo)\n",
    "        \n",
    "    #Check which is the best bandwidth to use with 20 steps of cross-validation\n",
    "    grid = GridSearchCV(KernelDensity(),{'bandwidth': np.linspace(10,300,30)}, cv=9)\n",
    "    grid.fit(histo[:,None])\n",
    "\n",
    "    return grid.best_params_.values()[0]"
   ]
  },
  {
   "cell_type": "markdown",
   "metadata": {},
   "source": [
    "<style>\n",
    "    .text_cell_render\n",
    "    font-family: Times New Roman, serif\n",
    "</style>\n",
    "    <font color='blue'><font size=\"5\">FUNC: devuelve PDF <font size=\"3\"> (if not provided bandwidth, ot calculates the optimal)</font>"
   ]
  },
  {
   "cell_type": "code",
   "execution_count": 10,
   "metadata": {
    "collapsed": false
   },
   "outputs": [],
   "source": [
    "def kernelPDF(x, y, bandwidth=0, kernel_choose='epanechnikov'):\n",
    "    \n",
    "    #print args\n",
    "    # Prepare \"histogram-like\" data\n",
    "    histo = []\n",
    "    for i in range(len(y)):\n",
    "        for j in range(y[i]):\n",
    "            histo.append(x[i])\n",
    "\n",
    "    histo = np.array(histo)\n",
    "    \n",
    "    #busco la optima bw si no esta definida como argumento\n",
    "    if locals()['bandwidth']==0:\n",
    "        bandwidth = np.std(histo)*(4/(3.0*len(histo)))**(1/5)\n",
    "        \n",
    "        #puedo buscarla con cross-validation minimizando la MISE, que seria la mejor manera, pero tarda mucho...\n",
    "        #grid = GridSearchCV(KernelDensity(kernel=kernel_choose),{'bandwidth': np.linspace(10,300,30)}, cv=9)\n",
    "        #grid.fit(histo[:,None])\n",
    "        #bandwidth = grid.best_params_.values()[0]\n",
    "    \n",
    "    print \"best_bw = \", locals()['bandwidth']\n",
    "    \n",
    "    # Kernel Density Estimation with Scikit-learn\n",
    "    kde = KernelDensity(kernel=kernel_choose, bandwidth=bandwidth).fit(histo[:,np.newaxis])\n",
    "    pdf = np.exp(kde.score_samples(x[:,np.newaxis]))\n",
    "    \n",
    "    return pdf"
   ]
  },
  {
   "cell_type": "markdown",
   "metadata": {},
   "source": [
    "<style>\n",
    "    .text_cell_render\n",
    "    font-family: Times New Roman, serif\n",
    "</style>\n",
    "    <font color='blue'><font size=\"5\">FUNC:calculo MISE $\\int_{a}^{b} f(x) e^{2\\pi i k} dx'))$ por ahora solo calculo el factor Silverman</font>"
   ]
  },
  {
   "cell_type": "code",
   "execution_count": 11,
   "metadata": {
    "collapsed": false
   },
   "outputs": [],
   "source": [
    " def silverman(histo):\n",
    "        n,d = len(histo), np.ndim(histo)\n",
    "        print \"Just to check up... Data is taken as 1d\"    \n",
    "        return (n * (d + 2) / 4.)**(-1. / (d + 4))"
   ]
  },
  {
   "cell_type": "markdown",
   "metadata": {},
   "source": [
    "<style>\n",
    "    .text_cell_render\n",
    "    font-family: Times New Roman, serif\n",
    "</style>\n",
    "    <font color='blue'><font size=\"5\">FUNC:pre-process data, call kernelPDF and return normalized pdf</font>"
   ]
  },
  {
   "cell_type": "code",
   "execution_count": 12,
   "metadata": {
    "collapsed": true
   },
   "outputs": [],
   "source": [
    "def normed_PDF(gene, all_df, bandwidth=0, kernel_choose='epanechnikov'):\n",
    "    \n",
    "    # normalize the wiggle data\n",
    "    #gene_df.loc[:,'norm_reads'] = ((gene_df.loc[:,'reads']-gene_df.reads.min())/(gene_df.reads.max()-gene_df.reads.min()))\n",
    "    #orf_df.loc[:,'norm_reads'] = ((orf_df.loc[:,'reads']-orf_df.reads.min())/(orf_df.reads.max()-orf_df.reads.min()))\n",
    "    #all_df.loc[:,'norm_reads'] = ((all_df.loc[:,'reads']-all_df.reads.min())/(all_df.reads.max()-all_df.reads.min()))\n",
    "\n",
    "    # sort the data towards the pdf modeling\n",
    "    all_df.sort_values(by='position', inplace=True)\n",
    "\n",
    "    (x,y) =  zip(*[(i[0], i[1]) for i in all_df[['position','reads']].values])\n",
    "    x,y = np.array(x, dtype=int), np.array(y, dtype=int)\n",
    "\n",
    "    # best_bw = find_Kernel_best_bandwidth(x,y)\n",
    "    pdf = kernelPDF(x,y,bandwidth,kernel_choose='epanechnikov')\n",
    "\n",
    "    # Normalizo y    \n",
    "    y = [(i*1.0-np.min(y))/(np.max(y)-np.min(y)) for i in y]\n",
    "    pdf = [(i-np.min(pdf))/(np.max(pdf)-np.min(pdf)) for i in pdf]\n",
    "    # return values of x,y and the normalized pdf\n",
    "    return x, y, pdf"
   ]
  },
  {
   "cell_type": "markdown",
   "metadata": {},
   "source": [
    "<style>\n",
    "    .text_cell_render\n",
    "    font-family: Times New Roman, serif\n",
    "</style>\n",
    "    <font color='blue'><font size=\"5\">Incluyo TSSs al df</font>"
   ]
  },
  {
   "cell_type": "code",
   "execution_count": 13,
   "metadata": {
    "collapsed": false
   },
   "outputs": [
    {
     "data": {
      "text/html": [
       "<div>\n",
       "<table border=\"1\" class=\"dataframe\">\n",
       "  <thead>\n",
       "    <tr style=\"text-align: right;\">\n",
       "      <th></th>\n",
       "      <th>gene</th>\n",
       "      <th>chromosome</th>\n",
       "      <th>start</th>\n",
       "      <th>stop</th>\n",
       "      <th>W/C</th>\n",
       "      <th>start_promoter</th>\n",
       "      <th>TSS_start</th>\n",
       "      <th>TSS_frecuency_YPD</th>\n",
       "    </tr>\n",
       "  </thead>\n",
       "  <tbody>\n",
       "    <tr>\n",
       "      <th>YAL001C</th>\n",
       "      <td>TFC3</td>\n",
       "      <td>1</td>\n",
       "      <td>151166.0</td>\n",
       "      <td>147594.0</td>\n",
       "      <td>-1</td>\n",
       "      <td>151866</td>\n",
       "      <td>151198.0</td>\n",
       "      <td>1.0</td>\n",
       "    </tr>\n",
       "    <tr>\n",
       "      <th>YAL002W</th>\n",
       "      <td>VPS8</td>\n",
       "      <td>1</td>\n",
       "      <td>143707.0</td>\n",
       "      <td>147531.0</td>\n",
       "      <td>1</td>\n",
       "      <td>143007</td>\n",
       "      <td>143612.0</td>\n",
       "      <td>2.0</td>\n",
       "    </tr>\n",
       "    <tr>\n",
       "      <th>YAL003W</th>\n",
       "      <td>EFB1</td>\n",
       "      <td>1</td>\n",
       "      <td>142174.0</td>\n",
       "      <td>143160.0</td>\n",
       "      <td>1</td>\n",
       "      <td>141474</td>\n",
       "      <td>142153.0</td>\n",
       "      <td>5215.0</td>\n",
       "    </tr>\n",
       "    <tr>\n",
       "      <th>YAL004W</th>\n",
       "      <td>NaN</td>\n",
       "      <td>1</td>\n",
       "      <td>140760.0</td>\n",
       "      <td>141407.0</td>\n",
       "      <td>1</td>\n",
       "      <td>140060</td>\n",
       "      <td>137649.0</td>\n",
       "      <td>1.0</td>\n",
       "    </tr>\n",
       "    <tr>\n",
       "      <th>YAL005C</th>\n",
       "      <td>SSA1</td>\n",
       "      <td>1</td>\n",
       "      <td>141431.0</td>\n",
       "      <td>139503.0</td>\n",
       "      <td>-1</td>\n",
       "      <td>142131</td>\n",
       "      <td>141493.0</td>\n",
       "      <td>855.0</td>\n",
       "    </tr>\n",
       "  </tbody>\n",
       "</table>\n",
       "</div>"
      ],
      "text/plain": [
       "         gene chromosome     start      stop W/C start_promoter  TSS_start  \\\n",
       "YAL001C  TFC3          1  151166.0  147594.0  -1         151866   151198.0   \n",
       "YAL002W  VPS8          1  143707.0  147531.0   1         143007   143612.0   \n",
       "YAL003W  EFB1          1  142174.0  143160.0   1         141474   142153.0   \n",
       "YAL004W   NaN          1  140760.0  141407.0   1         140060   137649.0   \n",
       "YAL005C  SSA1          1  141431.0  139503.0  -1         142131   141493.0   \n",
       "\n",
       "         TSS_frecuency_YPD  \n",
       "YAL001C                1.0  \n",
       "YAL002W                2.0  \n",
       "YAL003W             5215.0  \n",
       "YAL004W                1.0  \n",
       "YAL005C              855.0  "
      ]
     },
     "execution_count": 13,
     "metadata": {},
     "output_type": "execute_result"
    }
   ],
   "source": [
    "tss = pd.read_csv('tss.csv').ix[:,1:]\n",
    "tss.set_index('id', inplace=True)\n",
    "sgd = pd.concat([sgd,tss], axis=1)\n",
    "sgd.dropna(subset = ['start', 'stop', 'chromosome'], inplace=True)\n",
    "sgd.head()"
   ]
  },
  {
   "cell_type": "markdown",
   "metadata": {},
   "source": [
    "<style>\n",
    "    .text_cell_render\n",
    "    font-family: Times New Roman, serif\n",
    "</style>\n",
    "    <font color='blue'><font size=\"5\">Leo wiggle de Github y lo almaceno en una df</font>"
   ]
  },
  {
   "cell_type": "code",
   "execution_count": 14,
   "metadata": {
    "collapsed": false
   },
   "outputs": [],
   "source": [
    "wig = getFromGit('https://raw.githubusercontent.com/aerijman/gcn4_ChEC/master/extremes_27.wig')\n",
    "\n",
    "mat=[]\n",
    "for i in wig.split('\\n'):\n",
    "    mat.append(i.strip().split('\\t')[:2])\n",
    "    \n",
    "df_wig, pointer_wig = open_wig(mat[:-1])"
   ]
  },
  {
   "cell_type": "markdown",
   "metadata": {},
   "source": [
    "<style>\n",
    "    .text_cell_render\n",
    "    font-family: Times New Roman, serif\n",
    "</style>\n",
    "    <meta http-equiv=\"Content-Type\" content=\"text/html; charset=ISO-8859-1\">\n",
    "    <font color='blue'><font size=\"5\">Calculo pdf de la se&ntilde;al en promoter+orf y plot </font>"
   ]
  },
  {
   "cell_type": "code",
   "execution_count": 15,
   "metadata": {
    "collapsed": false
   },
   "outputs": [
    {
     "name": "stdout",
     "output_type": "stream",
     "text": [
      "best_bw =  148.945963609\n",
      "best_bw =  190.551245457\n",
      "best_bw =  176.464900579\n",
      "best_bw =  167.914156431\n",
      "best_bw =  173.206728115\n",
      "best_bw =  257.189260039\n",
      "best_bw =  283.865777091\n"
     ]
    },
    {
     "data": {
      "image/png": "[encoded data removed]",
      "text/plain": [
       "<matplotlib.figure.Figure at 0x7f834f74a710>"
      ]
     },
     "metadata": {},
     "output_type": "display_data"
    }
   ],
   "source": [
    "genes = ['ARG3','HIS4','ARG1','STR3','ALD5','ILV6','PCL5']\n",
    "colors = plt.cm.rainbow(np.linspace(0, 1, len(genes)))\n",
    "move_Y_legend=0\n",
    "#plt.figure(figsize=(20,10))    \n",
    "\n",
    "for color,gene in zip(colors,genes):\n",
    "    \n",
    "    # Generate df with wiggle data for promoter and orf\n",
    "    gene_df = retrieve_wiggle(sgd[sgd.gene==gene].index[0], sgd, df_wig, pointer_wig, region='promoter')\n",
    "    orf_df = retrieve_wiggle(sgd[sgd.gene==gene].index[0], sgd, df_wig, pointer_wig, region='orf')\n",
    "    all_df = pd.DataFrame(pd.concat([gene_df,orf_df], axis=0))\n",
    "\n",
    "    # puedo llamar a la funcion asignando el bw(seria el tercer argumento en normed_PDF)\n",
    "    x, y, pdf = normed_PDF(gene, all_df,bandwidth=0, kernel_choose='epanechnikov')\n",
    "    #all_df.plot.area(x='position',y='norm_reads',  alpha=0.5, color='gray')\n",
    "\n",
    "    \n",
    "    # TSS value and center the pdf around the TSS\n",
    "    tss = sgd.loc[sgd.gene==gene, 'TSS_start'].values[0]\n",
    "    x = [i-tss for i in x]\n",
    "    # if reverse direction, reverse it to compare it to the others\n",
    "    if int(sgd.loc[sgd.gene==gene,'W/C'].values[0])==-1:\n",
    "         #pdf = pdf[::-1]\n",
    "         x = [i*-1 for i in x]#[::-1]\n",
    "         #y = y[::-1]\n",
    "    \n",
    "    #cerear los exremos de las curvas:\n",
    "    x = np.insert(x,0,np.min(x)-1) # Al comienzo\n",
    "    x = np.insert(x,len(x),np.max(x)+1) # y al final\n",
    "    \n",
    "    pdf = np.insert(pdf,0,0) # Al comienzo\n",
    "    pdf = np.insert(pdf,len(pdf),0) # Al final\n",
    "    \n",
    "    y = np.insert(y,0,0) # Al comienzo\n",
    "    y = np.insert(y,len(y),0) # y al final\n",
    "\n",
    "    plt.fill(x,pdf, color=color, lw=3, alpha=0.4)\n",
    "    #plt.plot(x,y, color=color)\n",
    "    plt.annotate(''.join([gene,' (', str(all_df.reads.sum()), ' reads) -> ',str(sgd.loc[sgd.gene==gene,'W/C'].values[0])]), xy=(400,0.8+move_Y_legend), color=color)\n",
    "    move_Y_legend -=0.05\n",
    "    plt.plot(0,np.median(y)*10, '*', color=color, markersize=15)"
   ]
  },
  {
   "cell_type": "markdown",
   "metadata": {},
   "source": [
    "<style>\n",
    "    .text_cell_render\n",
    "    font-family: Times New Roman, serif\n",
    "</style>\n",
    "    <meta http-equiv=\"Content-Type\" content=\"text/html; charset=ISO-8859-1\">\n",
    "    <font color='red'><font size=\"5\">print best_bw      ---><font size=\"6\"> <strong>PCL5.</em><font size=\"5\"> The TSS is not correct and has to be replaced by the Zhang!!! </font>"
   ]
  },
  {
   "cell_type": "markdown",
   "metadata": {
    "collapsed": true
   },
   "source": [
    "<style>\n",
    "    .text_cell_render\n",
    "    font-family: Times New Roman, serif\n",
    "</style>\n",
    "    <meta http-equiv=\"Content-Type\" content=\"text/html; charset=ISO-8859-1\">\n",
    "    <font color='blue'><font size=\"5\">Incorporate from Zhang those incorrect or missing TSSs @ Pelechano</font>"
   ]
  },
  {
   "cell_type": "code",
   "execution_count": 16,
   "metadata": {
    "collapsed": false
   },
   "outputs": [
    {
     "name": "stdout",
     "output_type": "stream",
     "text": [
      "0         start max(frecuency)\n",
      "locus                         \n",
      "YAL002W  143292              1\n",
      "YAL003W  142153              9\n",
      "YAL005C  141493             11\n",
      "YAL007C  138422              1\n",
      "YAL008W  136866              1\n",
      "         gene chromosome     start      stop W/C start_promoter  TSS_start  \\\n",
      "YAL001C  TFC3          1  151166.0  147594.0  -1         151866   151198.0   \n",
      "YAL002W  VPS8          1  143707.0  147531.0   1         143007   143612.0   \n",
      "YAL003W  EFB1          1  142174.0  143160.0   1         141474   142153.0   \n",
      "YAL004W   NaN          1  140760.0  141407.0   1         140060   137649.0   \n",
      "YAL005C  SSA1          1  141431.0  139503.0  -1         142131   141493.0   \n",
      "\n",
      "         TSS_frecuency_YPD  \n",
      "YAL001C                1.0  \n",
      "YAL002W                2.0  \n",
      "YAL003W             5215.0  \n",
      "YAL004W                1.0  \n",
      "YAL005C              855.0  \n"
     ]
    }
   ],
   "source": [
    "t = getFromGit('https://raw.githubusercontent.com/aerijman/gcn4_ChEC/master/tss_zhang.csv')\n",
    "mat=[]\n",
    "for line in t.split('\\n'):\n",
    "    i = line.strip().split(',')\n",
    "    mat.append(i)\n",
    "\n",
    "zhang_df = pd.DataFrame(mat)\n",
    "zhang_df.columns = zhang_df.iloc[0]\n",
    "zhang_df.set_index('locus', inplace=True)\n",
    "zhang_df = zhang_df.iloc[1:]\n",
    "print zhang_df.head()\n",
    "print sgd.head()"
   ]
  },
  {
   "cell_type": "markdown",
   "metadata": {},
   "source": [
    "<font size='4', color='red'>Elimino genes en los que TSS esta en el ORF o dist[tss-start] > 1000bp</font>"
   ]
  },
  {
   "cell_type": "code",
   "execution_count": 25,
   "metadata": {
    "collapsed": false
   },
   "outputs": [],
   "source": [
    "list_of_start_TSS_dist_above_1000 = sgd.loc[sgd.start - sgd.TSS_start > 1000]\n",
    "list_of_TSS_after_start = sgd.loc[(sgd.start - sgd.TSS_start) * sgd['W/C'] <0]\n",
    "sgd = sgd.loc[((sgd.start - sgd.TSS_start) * sgd['W/C'] >0) & (sgd.start - sgd.TSS_start < 1000)]"
   ]
  },
  {
   "cell_type": "code",
   "execution_count": 77,
   "metadata": {
    "collapsed": false
   },
   "outputs": [],
   "source": [
    "zhang_not_in_sgd = zhang_df[zhang_df.index.isin(sgd.index)==False].index"
   ]
  },
  {
   "cell_type": "code",
   "execution_count": 81,
   "metadata": {
    "collapsed": false
   },
   "outputs": [
    {
     "name": "stdout",
     "output_type": "stream",
     "text": [
      "YAR073W\n",
      "YBL004W\n",
      "YBL016W\n",
      "YBL069W\n",
      "YBL107C\n",
      "YBR040W\n",
      "YBR121C\n",
      "YBR136W\n",
      "YBR208C\n",
      "YCL007C\n",
      "YCL046W\n",
      "YCR032W\n",
      "YCR042C\n",
      "YDL159W-A\n",
      "YDR196C\n",
      "YDR201W\n",
      "YDR334W\n",
      "YDR386W\n",
      "YDR420W\n",
      "YEL007W\n",
      "YEL018C-A\n",
      "YER006C-A\n",
      "YER138W-A\n",
      "YFL013W-A\n",
      "YFL033C\n",
      "YFL056C\n",
      "YGL025C\n",
      "YGL206C\n",
      "YGR152C\n",
      "YGR222W\n",
      "YGR272C\n",
      "YGR275W\n",
      "YHR071W\n",
      "YHR099W\n",
      "YHR175W\n",
      "YHR180W-A\n",
      "YIL047C\n",
      "YIL164C\n",
      "YJR066W\n",
      "YKL075C\n",
      "YKL145W\n",
      "YKL182W\n",
      "YKR073C\n",
      "YKR074W\n",
      "YLL019C\n",
      "YLR024C\n",
      "YLR206W\n",
      "YLR223C\n",
      "YLR265C\n",
      "YLR307C-A\n",
      "YLR342W\n",
      "YML016C\n",
      "YML077W\n",
      "YMR149W\n",
      "YMR229C\n",
      "YNL139C\n",
      "YNL172W\n",
      "YNL271C\n",
      "YNL334C\n",
      "YNR040W\n",
      "YNR070W\n",
      "YOL149W\n",
      "YOL164W-A\n",
      "YOR031W\n",
      "YOR040W\n",
      "YOR053W\n",
      "YOR169C\n",
      "YOR225W\n",
      "YOR247W\n",
      "YOR274W\n",
      "YOR277C\n",
      "YOR290C\n",
      "YPL091W\n",
      "YPL208W\n",
      "YPR150W\n",
      "YPR160W\n",
      "YPR202W\n",
      "\n"
     ]
    }
   ],
   "source": [
    "for i in zhang_not_in_sgd:\n",
    "    sgd.loc[i,] = "
   ]
  },
  {
   "cell_type": "markdown",
   "metadata": {},
   "source": [
    "<font size='5', color='blue'>Habra correlacion entre las frecuencias de TSS con los valores de nasc. mRNA?</font>"
   ]
  },
  {
   "cell_type": "code",
   "execution_count": 18,
   "metadata": {
    "collapsed": false
   },
   "outputs": [],
   "source": [
    "t = getFromGit('https://raw.githubusercontent.com/aerijman/gcn4_ChEC/master/Degron_Log2_table_140.csv') \n",
    "mat= []\n",
    "for line in t.split('\\n'):\n",
    "    i = line.strip().split(',')\n",
    "    mat.append(i)\n",
    "\n",
    "nasc_df = pd.DataFrame(mat)"
   ]
  },
  {
   "cell_type": "code",
   "execution_count": 19,
   "metadata": {
    "collapsed": false,
    "scrolled": true
   },
   "outputs": [],
   "source": [
    "nasc_df.columns = nasc_df.iloc[0]\n",
    "nasc_df = nasc_df.iloc[1:,]\n",
    "nasc_df.set_index('Gene_name', inplace=True)"
   ]
  },
  {
   "cell_type": "code",
   "execution_count": 20,
   "metadata": {
    "collapsed": false
   },
   "outputs": [],
   "source": [
    "test_df = nasc_df[['WT_control_value','WT_log2_ratio']].astype(float)\n",
    "test_df = pd.concat([test_df,sgd.TSS_frecuency_YPD],axis=1)"
   ]
  },
  {
   "cell_type": "markdown",
   "metadata": {},
   "source": [
    "<font><font size=\"3\"><font color=\"gray\">Aparently, there is no correlation at all between TSS_frecuencies @ Pelechano and the WT nascent RNA.</font>"
   ]
  },
  {
   "cell_type": "code",
   "execution_count": 21,
   "metadata": {
    "collapsed": false
   },
   "outputs": [
    {
     "data": {
      "text/plain": [
       "(-100, 5000)"
      ]
     },
     "execution_count": 21,
     "metadata": {},
     "output_type": "execute_result"
    },
    {
     "data": {
      "text/plain": [
       "<matplotlib.figure.Figure at 0x7f834f712b50>"
      ]
     },
     "metadata": {},
     "output_type": "display_data"
    },
    {
     "data": {
      "image/png": "[encoded data removed]",
      "text/plain": [
       "<matplotlib.figure.Figure at 0x7f83517df950>"
      ]
     },
     "metadata": {},
     "output_type": "display_data"
    }
   ],
   "source": [
    "plt.figure()\n",
    "test_df.plot.scatter(x = 'WT_control_value', y='TSS_frecuency_YPD')\n",
    "plt.ylim(-100,5000)"
   ]
  },
  {
   "cell_type": "code",
   "execution_count": null,
   "metadata": {
    "collapsed": true
   },
   "outputs": [],
   "source": []
  }
 ],
 "metadata": {
  "kernelspec": {
   "display_name": "Python 2",
   "language": "python",
   "name": "python2"
  },
  "language_info": {
   "codemirror_mode": {
    "name": "ipython",
    "version": 2
   },
   "file_extension": ".py",
   "mimetype": "text/x-python",
   "name": "python",
   "nbconvert_exporter": "python",
   "pygments_lexer": "ipython2",
   "version": "2.7.12"
  }
 },
 "nbformat": 4,
 "nbformat_minor": 2
}
