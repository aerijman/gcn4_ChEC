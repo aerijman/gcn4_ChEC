{
 "cells": [
  {
   "cell_type": "markdown",
   "metadata": {
    "deletable": true,
    "editable": true
   },
   "source": [
    "<style>\n",
    "    .text_cell_render\n",
    "    font-family: Times New Roman, serif\n",
    "    </style>\n",
    "    <font color='Black'><font size=\"5\">Encontrar modelo de distribucion de la  senal de MNase-coupled a Gcn4 y predecir posibles interacciones de Gcn4 con dif erentes CoActivators</font>"
   ]
  },
  {
   "cell_type": "code",
   "execution_count": 1,
   "metadata": {
    "collapsed": false,
    "deletable": true,
    "editable": true
   },
   "outputs": [],
   "source": [
    "%matplotlib inline\n",
    "import matplotlib.pylab as plt\n",
    "import pandas as pd\n",
    "import numpy as np\n",
    "import scipy \n",
    "import seaborn as sns\n",
    "import scipy.stats as st\n",
    "\n",
    "from sklearn.neighbors import KernelDensity\n",
    "from sklearn.model_selection import GridSearchCV\n",
    "\n",
    "from numpy import NaN, Inf, arange, isscalar, asarray, array"
   ]
  },
  {
   "cell_type": "markdown",
   "metadata": {
    "deletable": true,
    "editable": true
   },
   "source": [
    "<style>\n",
    "    .text_cell_render\n",
    "    font-family: Times New Roman, serif\n",
    "</style>\n",
    "    <font color='blue'><font size=\"5\">FUNC: Lee archivo de Github</font>"
   ]
  },
  {
   "cell_type": "code",
   "execution_count": 2,
   "metadata": {
    "collapsed": true,
    "deletable": true,
    "editable": true
   },
   "outputs": [],
   "source": [
    "def getFromGit(link):\n",
    "    \n",
    "        from html2text import html2text\n",
    "        import requests\n",
    "    \n",
    "        f = requests.get(link)\n",
    "    \n",
    "        return f.text.encode('ascii','replace')"
   ]
  },
  {
   "cell_type": "markdown",
   "metadata": {
    "deletable": true,
    "editable": true
   },
   "source": [
    "<style>\n",
    "    .text_cell_render\n",
    "    font-family: Times New Roman, serif\n",
    "</style>\n",
    "    <font color='blue'><font size=\"5\">Dictionary of Roman Numbers. Will be used to access each chromosome faster</font>"
   ]
  },
  {
   "cell_type": "code",
   "execution_count": 3,
   "metadata": {
    "collapsed": true,
    "deletable": true,
    "editable": true
   },
   "outputs": [],
   "source": [
    "roman_numbers = {'I':'1','II':'2','III':'3','IV':'4','V':'5','VI':'6','VII':'7',\\\n",
    "                 'VIII':'8','IX':'9','X':'10','XI':'11','XII':'12','XIII':'13','XIV':'14',\\\n",
    "                 'XV':'15','XVI':'16','XVII':'17','M':'M'}\n",
    "\n",
    "inv_roman = {v: k for k, v in roman_numbers.iteritems()}\n",
    "\n",
    "promoter_length = 600"
   ]
  },
  {
   "cell_type": "markdown",
   "metadata": {
    "deletable": true,
    "editable": true
   },
   "source": [
    "<style>\n",
    "    .text_cell_render\n",
    "    font-family: Times New Roman, serif\n",
    "</style>\n",
    "    <font color='blue'><font size=\"5\">FUNC: Definir el promoter length y abrir SGD dataset</font>"
   ]
  },
  {
   "cell_type": "code",
   "execution_count": 4,
   "metadata": {
    "collapsed": true,
    "deletable": true,
    "editable": true
   },
   "outputs": [],
   "source": [
    "def open_sgd(promoter_length):\n",
    "\n",
    "    # open sgd file into a dataframe\n",
    "    sgd, m = getFromGit('https://raw.githubusercontent.com/aerijman/gcn4_ChEC/master/SGD.tsv'), []\n",
    "    for i in sgd.split('\\n'):\n",
    "        m.append(i.strip().split('\\t'))\n",
    "    sgd = pd.DataFrame(m)    \n",
    "    #sgd = pd.read_csv('./SGD.tsv', delimiter='\\t')\n",
    "\n",
    "    #assign column names and use only the 'ORF' rows\n",
    "    sgd.columns = ['n0','ORF_or_what','n1','locus','gene','n2','n3','n4'\\\n",
    "                  ,'chromosome','start','stop','W/C','n5','n6','n7','n8']\n",
    "    sgd = sgd[sgd['ORF_or_what']=='ORF']\n",
    "    \n",
    "    # get rid of non-informative columns and 2-micron chromosome\n",
    "    sgd = sgd.drop(['ORF_or_what','n0','n1','n2','n3','n4','n5','n6','n7','n8'],1).set_index('locus')\n",
    "    sgd = sgd.ix[sgd.chromosome!='2-micron']\n",
    "\n",
    "    # -1 to Creek and 1 to Watson\n",
    "    sgd.loc[sgd['W/C']=='C', 'W/C']=-1\n",
    "    sgd.loc[sgd['W/C']=='W', 'W/C']=1\n",
    "    \n",
    "    sgd[['start','stop','W/C']] = sgd[['start','stop','W/C']].apply(pd.to_numeric) \n",
    "    \n",
    "    # create the column 'start promoter' and replace negative numbers \\\n",
    "    # with 0 (promoters that are <600bp form the start of the chromosome)\n",
    "    sgd['start_promoter'] = sgd['start']-(sgd['W/C']*promoter_length)\n",
    "    sgd.loc[sgd['start_promoter']<0,'start_promoter']=0\n",
    "\n",
    "    #sgd['promoter_median'] = (sgd['start'] + sgd['start_promoter']) / 2\n",
    "    #sgd = sgd.sort_values(['chromosome','promoter_median'])\n",
    "    #sgd.reset_index(inplace=True)\n",
    "\n",
    "    return sgd"
   ]
  },
  {
   "cell_type": "markdown",
   "metadata": {
    "deletable": true,
    "editable": true
   },
   "source": [
    "<style>\n",
    "    .text_cell_render\n",
    "    font-family: Times New Roman, serif\n",
    "</style>\n",
    "    <font color='black'><font size=\"4\">700bp porque hay promotores con peaks que si no terminan, el area computada es bastante incorrecta.\n",
    "    testear y evaluar si conviene dejar aparte los genes que comparten promoter hasta 700bp</font>"
   ]
  },
  {
   "cell_type": "code",
   "execution_count": 5,
   "metadata": {
    "collapsed": false,
    "deletable": true,
    "editable": true
   },
   "outputs": [
    {
     "name": "stderr",
     "output_type": "stream",
     "text": [
      "/usr/local/lib/python2.7/dist-packages/requests/packages/urllib3/util/ssl_.py:334: SNIMissingWarning: An HTTPS request has been made, but the SNI (Subject Name Indication) extension to TLS is not available on this platform. This may cause the server to present an incorrect TLS certificate, which can cause validation failures. You can upgrade to a newer version of Python to solve this. For more information, see https://urllib3.readthedocs.io/en/latest/advanced-usage.html#ssl-warnings\n",
      "  SNIMissingWarning\n",
      "/usr/local/lib/python2.7/dist-packages/requests/packages/urllib3/util/ssl_.py:132: InsecurePlatformWarning: A true SSLContext object is not available. This prevents urllib3 from configuring SSL appropriately and may cause certain SSL connections to fail. You can upgrade to a newer version of Python to solve this. For more information, see https://urllib3.readthedocs.io/en/latest/advanced-usage.html#ssl-warnings\n",
      "  InsecurePlatformWarning\n"
     ]
    }
   ],
   "source": [
    "sgd = open_sgd(promoter_length)\n",
    "sgd = sgd[sgd.chromosome.isin(map(str,range(1,17)))]"
   ]
  },
  {
   "cell_type": "markdown",
   "metadata": {
    "deletable": true,
    "editable": true
   },
   "source": [
    "<style>\n",
    "    .text_cell_render\n",
    "    font-family: Times New Roman, serif\n",
    "</style>\n",
    "    <font color='blue'><font size=\"5\">FUNC: Abrir wiggle file</font>"
   ]
  },
  {
   "cell_type": "code",
   "execution_count": 6,
   "metadata": {
    "collapsed": true,
    "deletable": true,
    "editable": true
   },
   "outputs": [],
   "source": [
    "def open_wig(wigfile):\n",
    "\n",
    "# Open the wig file and make a pointer to where each chromosomes start\n",
    "    #wig, w_pointer = [i.strip('\\n').split('\\t')[:2] for i in open(wigfile)], {} # this was for opening files, not from github  \n",
    "    wig, w_pointer = wigfile, {}\n",
    "    wig2, n = [], 0\n",
    "    for i in wig[1:]:\n",
    "        if len(i)==1:\n",
    "            w_pointer[roman_numbers[i[0][22:]]] = n\n",
    "\n",
    "        else:\n",
    "            if int(i[1])>=0:                   ## era >=20...\n",
    "                wig2.append(i)\n",
    "                n+=1\n",
    "        \n",
    "    # the last pointer to the end of the file, when looking for a gene in chromosome 17 and there is no NEXT chromosome\n",
    "    #w_pointer['17']=n \n",
    "\n",
    "    # wig into dataframe\n",
    "    wig = pd.DataFrame(wig2)\n",
    "    wig.columns = ['position','reads']\n",
    "\n",
    "    return wig, w_pointer"
   ]
  },
  {
   "cell_type": "markdown",
   "metadata": {
    "deletable": true,
    "editable": true
   },
   "source": [
    "<style>\n",
    "    .text_cell_render\n",
    "    font-family: Times New Roman, serif\n",
    "</style>\n",
    "    <font color='blue'><font size=\"5\">FUNC: Dado el locus, devuelve los counts de wiggle</font>"
   ]
  },
  {
   "cell_type": "code",
   "execution_count": 7,
   "metadata": {
    "collapsed": true,
    "deletable": true,
    "editable": true
   },
   "outputs": [],
   "source": [
    "def retrieve_positions(locus, sgd, wig, w_pointer):\n",
    "\n",
    "    # chromosomes as pointer for the wig file\n",
    "    this_chromosome = int(sgd[sgd.index==locus].values[0][1])\n",
    "    this = w_pointer[str(this_chromosome)]\n",
    "\n",
    "    # assign the key to NOT to be the current chromosome\n",
    "    key = [1 if this_chromosome>7 else 10][0]\n",
    "\n",
    "    # Now go and find me the closest chromosome in the wig file (they are not in order!!)\n",
    "    for i,j in w_pointer.iteritems():\n",
    "        if j-this < abs(w_pointer[str(key)]-this) and j>this and i != this_chromosome:\n",
    "            key = i \n",
    "    next = w_pointer[str(key)]\n",
    "\n",
    "    # promoter positions to find in the wig \n",
    "    promoter_positions = [int(i) for i in sgd[sgd.index==locus][['start_promoter', 'start']].as_matrix()[0]]\n",
    "    \n",
    "    # In case the gene is in the Creek direction\n",
    "    if sgd[sgd.index==locus]['W/C'].values[0]==-1:\n",
    "        promoter_positions = [promoter_positions[1],promoter_positions[0]]\n",
    "\n",
    "    # restricting the wig to the chromosome and the positions \n",
    "    Gene_df =  wig[(wig.index > this) & (wig.index < next)]\n",
    "\n",
    "    # Only if the wig file contains counts for this gene, otherwise return False!\n",
    "    if Gene_df.position.empty == False:\n",
    "        Gene_df = Gene_df[(Gene_df.position.astype(int)>promoter_positions[0]) & (Gene_df.position.astype(int)<promoter_positions[1])]\n",
    "        return Gene_df.astype(int)\n",
    "    else:\n",
    "        return pd.DataFrame([])"
   ]
  },
  {
   "cell_type": "markdown",
   "metadata": {
    "deletable": true,
    "editable": true
   },
   "source": [
    "<style>\n",
    "    .text_cell_render\n",
    "    font-family: Times New Roman, serif\n",
    "</style>\n",
    "    <font color='blue'><font size=\"5\">FUNC: Dado el locus, devuelve los counts de wiggle del promoter or ORF</font>"
   ]
  },
  {
   "cell_type": "code",
   "execution_count": 8,
   "metadata": {
    "collapsed": false,
    "deletable": true,
    "editable": true
   },
   "outputs": [],
   "source": [
    "def retrieve_wiggle(locus, sgd, wig, w_pointer, region='promoter'):\n",
    "\n",
    "    # chromosomes as pointer for the wig file\n",
    "    this_chromosome = int(sgd[sgd.index==locus].values[0][1])\n",
    "    this = w_pointer[str(this_chromosome)]\n",
    "\n",
    "    # assign the key to NOT to be the current chromosome\n",
    "    key = [1 if this_chromosome>7 else 10][0]\n",
    "\n",
    "    # Now go and find me the closest chromosome in the wig file (they are not in order!!)\n",
    "    for i,j in w_pointer.iteritems():\n",
    "        if j-this < abs(w_pointer[str(key)]-this) and j>this and i != this_chromosome:\n",
    "            key = i \n",
    "    next = w_pointer[str(key)]\n",
    "\n",
    "    # promoter positions to find in the wig \n",
    "    A = sgd[sgd.index==locus]['start'].values[0]\n",
    "    B = (A + promoter_length*sgd.loc[sgd.index==locus,'W/C'][0]) if region=='orf' else (A - promoter_length*sgd.loc[sgd.index==locus,'W/C'][0])\n",
    "    promoter_positions = [A,B] if region=='orf' else [B,A]\n",
    "    \n",
    "    # In case the gene is in the Creek direction\n",
    "    if sgd[sgd.index==locus]['W/C'].values[0]==-1:\n",
    "        promoter_positions = [promoter_positions[1],promoter_positions[0]]\n",
    "\n",
    "    # restricting the wig to the chromosome and the positions \n",
    "    Gene_df =  wig[(wig.index > this) & (wig.index < next)]\n",
    "\n",
    "    # Only if the wig file contains counts for this gene, otherwise return False!\n",
    "    if Gene_df.position.empty == False:\n",
    "        Gene_df = Gene_df[(Gene_df.position.astype(int)>promoter_positions[0]) & (Gene_df.position.astype(int)<promoter_positions[1])]\n",
    "        return Gene_df.astype(int)\n",
    "    else:\n",
    "        return pd.DataFrame([])"
   ]
  },
  {
   "cell_type": "markdown",
   "metadata": {
    "deletable": true,
    "editable": true
   },
   "source": [
    "<style>\n",
    "    .text_cell_render\n",
    "    font-family: Times New Roman, serif\n",
    "</style>\n",
    "    <font color='blue'><font size=\"5\">FUNC: Busco la bw optima para el kernel</font>"
   ]
  },
  {
   "cell_type": "code",
   "execution_count": 9,
   "metadata": {
    "collapsed": true,
    "deletable": true,
    "editable": true
   },
   "outputs": [],
   "source": [
    "def find_Kernel_best_bandwidth(x,y):\n",
    "\n",
    "    # Prepare \"histogram-like\" data\n",
    "    histo = []\n",
    "    for i in range(len(y)):\n",
    "        for j in range(y[i]):\n",
    "            histo.append(x[i])\n",
    "    histo = np.array(histo)\n",
    "        \n",
    "    #Check which is the best bandwidth to use with 20 steps of cross-validation\n",
    "    grid = GridSearchCV(KernelDensity(),{'bandwidth': np.linspace(10,300,30)}, cv=9)\n",
    "    grid.fit(histo[:,None])\n",
    "\n",
    "    return grid.best_params_.values()[0]"
   ]
  },
  {
   "cell_type": "markdown",
   "metadata": {
    "deletable": true,
    "editable": true
   },
   "source": [
    "<style>\n",
    "    .text_cell_render\n",
    "    font-family: Times New Roman, serif\n",
    "</style>\n",
    "    <font color='blue'><font size=\"5\">FUNC: devuelve PDF <font size=\"3\"> (if not provided bandwidth, ot calculates the optimal)</font>"
   ]
  },
  {
   "cell_type": "code",
   "execution_count": 10,
   "metadata": {
    "collapsed": false,
    "deletable": true,
    "editable": true
   },
   "outputs": [],
   "source": [
    "def kernelPDF(x, y, bandwidth=0, kernel_choose='epanechnikov'):\n",
    "    \n",
    "    #print args\n",
    "    # Prepare \"histogram-like\" data\n",
    "    histo = []\n",
    "    for i in range(len(y)):\n",
    "        for j in range(y[i]):\n",
    "            histo.append(x[i])\n",
    "\n",
    "    histo = np.array(histo)\n",
    "    \n",
    "    #busco la optima bw si no esta definida como argumento\n",
    "    if locals()['bandwidth']==0:\n",
    "        bandwidth = np.std(histo)*(4/(3.0*len(histo)))**(1/5)\n",
    "        \n",
    "        #puedo buscarla con cross-validation minimizando la MISE, que seria la mejor manera, pero tarda mucho...\n",
    "        #grid = GridSearchCV(KernelDensity(kernel=kernel_choose),{'bandwidth': np.linspace(10,300,30)}, cv=9)\n",
    "        #grid.fit(histo[:,None])\n",
    "        #bandwidth = grid.best_params_.values()[0]\n",
    "    \n",
    "    print \"best_bw = \", locals()['bandwidth']\n",
    "    \n",
    "    # Kernel Density Estimation with Scikit-learn\n",
    "    kde = KernelDensity(kernel=kernel_choose, bandwidth=bandwidth).fit(histo[:,np.newaxis])\n",
    "    pdf = np.exp(kde.score_samples(x[:,np.newaxis]))\n",
    "    \n",
    "    return pdf"
   ]
  },
  {
   "cell_type": "markdown",
   "metadata": {
    "deletable": true,
    "editable": true
   },
   "source": [
    "<style>\n",
    "    .text_cell_render\n",
    "    font-family: Times New Roman, serif\n",
    "</style>\n",
    "    <font color='blue'><font size=\"5\">FUNC:calculo MISE $\\int_{a}^{b} f(x) e^{2\\pi i k} dx'))$ por ahora solo calculo el factor Silverman</font>"
   ]
  },
  {
   "cell_type": "code",
   "execution_count": 11,
   "metadata": {
    "collapsed": false,
    "deletable": true,
    "editable": true
   },
   "outputs": [],
   "source": [
    " def silverman(histo):\n",
    "        n,d = len(histo), np.ndim(histo)\n",
    "        print \"Just to check up... Data is taken as 1d\"    \n",
    "        return (n * (d + 2) / 4.)**(-1. / (d + 4))"
   ]
  },
  {
   "cell_type": "markdown",
   "metadata": {
    "deletable": true,
    "editable": true
   },
   "source": [
    "<style>\n",
    "    .text_cell_render\n",
    "    font-family: Times New Roman, serif\n",
    "</style>\n",
    "    <font color='blue'><font size=\"5\">FUNC:pre-process data, call kernelPDF and return normalized pdf</font>"
   ]
  },
  {
   "cell_type": "code",
   "execution_count": 12,
   "metadata": {
    "collapsed": true,
    "deletable": true,
    "editable": true
   },
   "outputs": [],
   "source": [
    "def normed_PDF(gene, all_df, bandwidth=0, kernel_choose='epanechnikov'):\n",
    "    \n",
    "    # normalize the wiggle data\n",
    "    #gene_df.loc[:,'norm_reads'] = ((gene_df.loc[:,'reads']-gene_df.reads.min())/(gene_df.reads.max()-gene_df.reads.min()))\n",
    "    #orf_df.loc[:,'norm_reads'] = ((orf_df.loc[:,'reads']-orf_df.reads.min())/(orf_df.reads.max()-orf_df.reads.min()))\n",
    "    #all_df.loc[:,'norm_reads'] = ((all_df.loc[:,'reads']-all_df.reads.min())/(all_df.reads.max()-all_df.reads.min()))\n",
    "\n",
    "    # sort the data towards the pdf modeling\n",
    "    all_df.sort_values(by='position', inplace=True)\n",
    "\n",
    "    (x,y) =  zip(*[(i[0], i[1]) for i in all_df[['position','reads']].values])\n",
    "    x,y = np.array(x, dtype=int), np.array(y, dtype=int)\n",
    "\n",
    "    # best_bw = find_Kernel_best_bandwidth(x,y)\n",
    "    pdf = kernelPDF(x,y,bandwidth,kernel_choose='epanechnikov')\n",
    "\n",
    "    # Normalizo y    \n",
    "    y = [(i*1.0-np.min(y))/(np.max(y)-np.min(y)) for i in y]\n",
    "    pdf = [(i-np.min(pdf))/(np.max(pdf)-np.min(pdf)) for i in pdf]\n",
    "    # return values of x,y and the normalized pdf\n",
    "    return x, y, pdf"
   ]
  },
  {
   "cell_type": "markdown",
   "metadata": {
    "deletable": true,
    "editable": true
   },
   "source": [
    "<style>\n",
    "    .text_cell_render\n",
    "    font-family: Times New Roman, serif\n",
    "</style>\n",
    "    <font color='blue'><font size=\"5\">Incluyo TSSs al df</font>"
   ]
  },
  {
   "cell_type": "code",
   "execution_count": 27,
   "metadata": {
    "collapsed": false,
    "deletable": true,
    "editable": true
   },
   "outputs": [
    {
     "name": "stderr",
     "output_type": "stream",
     "text": [
      "/usr/local/lib/python2.7/dist-packages/requests/packages/urllib3/util/ssl_.py:132: InsecurePlatformWarning: A true SSLContext object is not available. This prevents urllib3 from configuring SSL appropriately and may cause certain SSL connections to fail. You can upgrade to a newer version of Python to solve this. For more information, see https://urllib3.readthedocs.io/en/latest/advanced-usage.html#ssl-warnings\n",
      "  InsecurePlatformWarning\n"
     ]
    },
    {
     "data": {
      "text/html": [
       "<div>\n",
       "<table border=\"1\" class=\"dataframe\">\n",
       "  <thead>\n",
       "    <tr style=\"text-align: right;\">\n",
       "      <th></th>\n",
       "      <th>gene</th>\n",
       "      <th>chromosome</th>\n",
       "      <th>start</th>\n",
       "      <th>stop</th>\n",
       "      <th>W/C</th>\n",
       "      <th>start_promoter</th>\n",
       "      <th>TSS_start</th>\n",
       "      <th>TSS_frecuency_YPD</th>\n",
       "    </tr>\n",
       "  </thead>\n",
       "  <tbody>\n",
       "    <tr>\n",
       "      <th>YAL001C</th>\n",
       "      <td>TFC3</td>\n",
       "      <td>1</td>\n",
       "      <td>151166.0</td>\n",
       "      <td>147594.0</td>\n",
       "      <td>-1.0</td>\n",
       "      <td>151766.0</td>\n",
       "      <td>151198.0</td>\n",
       "      <td>1.0</td>\n",
       "    </tr>\n",
       "    <tr>\n",
       "      <th>YAL002W</th>\n",
       "      <td>VPS8</td>\n",
       "      <td>1</td>\n",
       "      <td>143707.0</td>\n",
       "      <td>147531.0</td>\n",
       "      <td>1.0</td>\n",
       "      <td>143107.0</td>\n",
       "      <td>143612.0</td>\n",
       "      <td>2.0</td>\n",
       "    </tr>\n",
       "    <tr>\n",
       "      <th>YAL003W</th>\n",
       "      <td>EFB1</td>\n",
       "      <td>1</td>\n",
       "      <td>142174.0</td>\n",
       "      <td>143160.0</td>\n",
       "      <td>1.0</td>\n",
       "      <td>141574.0</td>\n",
       "      <td>142153.0</td>\n",
       "      <td>5215.0</td>\n",
       "    </tr>\n",
       "    <tr>\n",
       "      <th>YAL004W</th>\n",
       "      <td></td>\n",
       "      <td>1</td>\n",
       "      <td>140760.0</td>\n",
       "      <td>141407.0</td>\n",
       "      <td>1.0</td>\n",
       "      <td>140160.0</td>\n",
       "      <td>137649.0</td>\n",
       "      <td>1.0</td>\n",
       "    </tr>\n",
       "    <tr>\n",
       "      <th>YAL005C</th>\n",
       "      <td>SSA1</td>\n",
       "      <td>1</td>\n",
       "      <td>141431.0</td>\n",
       "      <td>139503.0</td>\n",
       "      <td>-1.0</td>\n",
       "      <td>142031.0</td>\n",
       "      <td>141493.0</td>\n",
       "      <td>855.0</td>\n",
       "    </tr>\n",
       "  </tbody>\n",
       "</table>\n",
       "</div>"
      ],
      "text/plain": [
       "         gene chromosome     start      stop  W/C  start_promoter  TSS_start  \\\n",
       "YAL001C  TFC3          1  151166.0  147594.0 -1.0        151766.0   151198.0   \n",
       "YAL002W  VPS8          1  143707.0  147531.0  1.0        143107.0   143612.0   \n",
       "YAL003W  EFB1          1  142174.0  143160.0  1.0        141574.0   142153.0   \n",
       "YAL004W                1  140760.0  141407.0  1.0        140160.0   137649.0   \n",
       "YAL005C  SSA1          1  141431.0  139503.0 -1.0        142031.0   141493.0   \n",
       "\n",
       "         TSS_frecuency_YPD  \n",
       "YAL001C                1.0  \n",
       "YAL002W                2.0  \n",
       "YAL003W             5215.0  \n",
       "YAL004W                1.0  \n",
       "YAL005C              855.0  "
      ]
     },
     "execution_count": 27,
     "metadata": {},
     "output_type": "execute_result"
    }
   ],
   "source": [
    "tss, m = getFromGit('https://raw.githubusercontent.com/aerijman/gcn4_ChEC/master/tss.csv'), []\n",
    "for i in tss.split('\\n'):\n",
    "    m.append(i.strip().split(','))\n",
    "tss = pd.DataFrame(m[1:], columns=m[0]).ix[:,1:]    \n",
    "tss[['TSS_start','TSS_frecuency_YPD']] = tss[['TSS_start','TSS_frecuency_YPD']].apply(pd.to_numeric)\n",
    "#tss = pd.read_csv('tss.csv').ix[:,1:]\n",
    "tss.set_index('id', inplace=True)\n",
    "sgd = pd.concat([sgd,tss], axis=1)\n",
    "sgd.dropna(subset = ['start', 'stop', 'chromosome'], inplace=True)\n",
    "sgd.head()"
   ]
  },
  {
   "cell_type": "markdown",
   "metadata": {
    "deletable": true,
    "editable": true
   },
   "source": [
    "<style>\n",
    "    .text_cell_render\n",
    "    font-family: Times New Roman, serif\n",
    "</style>\n",
    "    <meta http-equiv=\"Content-Type\" content=\"text/html; charset=ISO-8859-1\">\n",
    "    <font color='blue'><font size=\"5\">Incorporate from Zhang those incorrect or missing TSSs @ Pelechano</font>"
   ]
  },
  {
   "cell_type": "code",
   "execution_count": 28,
   "metadata": {
    "collapsed": false,
    "deletable": true,
    "editable": true
   },
   "outputs": [
    {
     "name": "stderr",
     "output_type": "stream",
     "text": [
      "/usr/local/lib/python2.7/dist-packages/requests/packages/urllib3/util/ssl_.py:132: InsecurePlatformWarning: A true SSLContext object is not available. This prevents urllib3 from configuring SSL appropriately and may cause certain SSL connections to fail. You can upgrade to a newer version of Python to solve this. For more information, see https://urllib3.readthedocs.io/en/latest/advanced-usage.html#ssl-warnings\n",
      "  InsecurePlatformWarning\n"
     ]
    }
   ],
   "source": [
    "t = getFromGit('https://raw.githubusercontent.com/aerijman/gcn4_ChEC/master/tss_zhang.csv')\n",
    "mat=[]\n",
    "for line in t.split('\\n'):\n",
    "    i = line.strip().split(',')\n",
    "    mat.append(i)\n",
    "\n",
    "zhang_df = pd.DataFrame(mat)\n",
    "zhang_df.columns = zhang_df.iloc[0]\n",
    "zhang_df.set_index('locus', inplace=True)\n",
    "zhang_df = zhang_df.iloc[1:]"
   ]
  },
  {
   "cell_type": "code",
   "execution_count": 29,
   "metadata": {
    "collapsed": true,
    "deletable": true,
    "editable": true
   },
   "outputs": [],
   "source": [
    "list_of_start_TSS_dist_above_1000 = sgd.loc[sgd.start - sgd.TSS_start > 1000]\n",
    "list_of_TSS_after_start = sgd.loc[(sgd.start - sgd.TSS_start) * sgd['W/C'] <0]\n",
    "sgd_no_Pelechano = sgd.loc[(((sgd.start - sgd.TSS_start) * sgd['W/C'] >0) & (sgd.start - sgd.TSS_start < 1000)) | (sgd.TSS_start==np.NaN)]\n",
    "\n",
    "zhang_add_2_sgd = zhang_df[zhang_df.index.isin(sgd_no_Pelechano.index)==False].index\n",
    "\n",
    "for i in zhang_add_2_sgd:\n",
    "    sgd.loc[i,['TSS_start','TSS_frecuency_YPD']] = zhang_df.loc[i,['start','max(frecuency)']].as_matrix()\n",
    "    \n",
    "sgd.dropna(inplace=True)\n",
    "sgd[['TSS_start','TSS_frecuency_YPD']] = sgd[['TSS_start','TSS_frecuency_YPD']].apply(pd.to_numeric)"
   ]
  },
  {
   "cell_type": "markdown",
   "metadata": {
    "deletable": true,
    "editable": true
   },
   "source": [
    "<style>\n",
    "    .text_cell_render\n",
    "    font-family: Times New Roman, serif\n",
    "</style>\n",
    "    <font color='blue'><font size=\"5\">Leo wiggle de Github y lo almaceno en una df</font>"
   ]
  },
  {
   "cell_type": "code",
   "execution_count": 30,
   "metadata": {
    "collapsed": false,
    "deletable": true,
    "editable": true
   },
   "outputs": [
    {
     "name": "stderr",
     "output_type": "stream",
     "text": [
      "/usr/local/lib/python2.7/dist-packages/requests/packages/urllib3/util/ssl_.py:132: InsecurePlatformWarning: A true SSLContext object is not available. This prevents urllib3 from configuring SSL appropriately and may cause certain SSL connections to fail. You can upgrade to a newer version of Python to solve this. For more information, see https://urllib3.readthedocs.io/en/latest/advanced-usage.html#ssl-warnings\n",
      "  InsecurePlatformWarning\n"
     ]
    }
   ],
   "source": [
    "wig = getFromGit('https://raw.githubusercontent.com/aerijman/gcn4_ChEC/master/extremes_27.wig')\n",
    "\n",
    "mat=[]\n",
    "for i in wig.split('\\n'):\n",
    "    mat.append(i.strip().split('\\t')[:2])\n",
    "    \n",
    "df_wig, pointer_wig = open_wig(mat[:-1])"
   ]
  },
  {
   "cell_type": "markdown",
   "metadata": {
    "deletable": true,
    "editable": true
   },
   "source": [
    "<style>\n",
    "    .text_cell_render\n",
    "    font-family: Times New Roman, serif\n",
    "</style>\n",
    "    <meta http-equiv=\"Content-Type\" content=\"text/html; charset=ISO-8859-1\">\n",
    "    <font color='blue'><font size=\"5\">Calculo pdf de la se&ntilde;al en promoter+orf y plot </font>"
   ]
  },
  {
   "cell_type": "code",
   "execution_count": 31,
   "metadata": {
    "collapsed": false,
    "deletable": true,
    "editable": true
   },
   "outputs": [
    {
     "name": "stdout",
     "output_type": "stream",
     "text": [
      "best_bw =  90\n",
      "ILV6 [ 0.     0.002  0.003  0.006  0.006]\n",
      "[ 0.02   0.012  0.009  0.007  0.006]\n",
      "best_bw =  90\n",
      "PCL5 [ 0.577  0.585  0.601  0.611  0.621]\n",
      "[ 0.046  0.044  0.044  0.043  0.04 ]\n"
     ]
    },
    {
     "name": "stderr",
     "output_type": "stream",
     "text": [
      "/home/ariel/.local/lib/python2.7/site-packages/matplotlib/font_manager.py:1297: UserWarning: findfont: Font family [u'sans-serif'] not found. Falling back to DejaVu Sans\n",
      "  (prop.get_family(), self.defaultFamily[fontext]))\n"
     ]
    },
    {
     "data": {
      "image/png": "[encoded data removed]",
      "text/plain": [
       "<matplotlib.figure.Figure at 0x7165f10>"
      ]
     },
     "metadata": {},
     "output_type": "display_data"
    }
   ],
   "source": [
    "genes = ['ILV6','PCL5']#['ARG3','HIS4','ARG1','STR3','ALD5','ILV6','PCL5']\n",
    "colors = plt.cm.rainbow(np.linspace(0, 1, len(genes)))\n",
    "move_Y_legend=0\n",
    "#plt.figure(figsize=(20,10))    \n",
    "\n",
    "for color,gene in zip(colors,genes):\n",
    "    \n",
    "    # Generate df with wiggle data for promoter and orf\n",
    "    gene_df = retrieve_wiggle(sgd[sgd.gene==gene].index[0], sgd, df_wig, pointer_wig, region='promoter')\n",
    "    orf_df = retrieve_wiggle(sgd[sgd.gene==gene].index[0], sgd, df_wig, pointer_wig, region='orf')\n",
    "    all_df = pd.DataFrame(pd.concat([gene_df,orf_df], axis=0))\n",
    "\n",
    "    # puedo llamar a la funcion asignando el bw(seria el tercer argumento en normed_PDF)\n",
    "    x, y, pdf = normed_PDF(gene, all_df,bandwidth=90, kernel_choose='epanechnikov')\n",
    "    #all_df.plot.area(x='position',y='norm_reads',  alpha=0.5, color='gray')\n",
    "    \n",
    "    \n",
    "    \n",
    "    \n",
    "    # Evaluar que la pdf empiece y termine en <0.01. Si no, actualizar el promoter_length\n",
    "    # aumentando el # de nucleotidos hacia uno o los dos lados hasta que empieze y termine con menos de 0.01.\n",
    "    \n",
    "    print gene,np.round(pdf[:5],3)\n",
    "    print np.round(pdf[-5:],3)\n",
    "\n",
    "    \n",
    "    \n",
    "    \n",
    "    \n",
    "    # TSS value and center the pdf around the TSS\n",
    "    tss = sgd.loc[sgd.gene==gene, 'TSS_start'].values[0]\n",
    "    x = [i-tss for i in x]\n",
    "    # if reverse direction, reverse it to compare it to the others\n",
    "    if int(sgd.loc[sgd.gene==gene,'W/C'].values[0])==-1:\n",
    "         #pdf = pdf[::-1]\n",
    "         x = [i*-1 for i in x]#[::-1]\n",
    "         #y = y[::-1]\n",
    "    \n",
    "    #cerear los exremos de las curvas:\n",
    "    x = np.insert(x,0,np.min(x)-1) # Al comienzo\n",
    "    x = np.insert(x,len(x),np.max(x)+1) # y al final\n",
    "    \n",
    "    pdf = np.insert(pdf,0,0) # Al comienzo\n",
    "    pdf = np.insert(pdf,len(pdf),0) # Al final\n",
    "    \n",
    "    y = np.insert(y,0,0) # Al comienzo\n",
    "    y = np.insert(y,len(y),0) # y al final\n",
    "\n",
    "    \n",
    "    # obtengo datos sobre la curva..\n",
    "    stat_array = st.describe(np.array([k for k in zip(x,pdf)])) #if k[1]>5]))\n",
    "    #for i in stat_array:\n",
    "    #    print i]\n",
    "    \n",
    "    plt.fill(x,pdf, color=color, lw=3, alpha=0.4)\n",
    "    plt.plot(x,y, color=color)\n",
    "    plt.annotate(''.join([gene,' (', str(all_df.reads.sum()), ' reads) -> ',str(sgd.loc[sgd.gene==gene,'W/C'].values[0])]), xy=(400,0.8+move_Y_legend), color=color)\n",
    "    move_Y_legend -=0.05\n",
    "    plt.plot(0,np.median(y)*10, '*', color=color, markersize=15)"
   ]
  },
  {
   "cell_type": "markdown",
   "metadata": {
    "deletable": true,
    "editable": true
   },
   "source": [
    "<style>\n",
    "    .text_cell_render\n",
    "    font-family: Times New Roman, serif\n",
    "</style>\n",
    "    <meta http-equiv=\"Content-Type\" content=\"text/html; charset=ISO-8859-1\">\n",
    "    <font color='red'><font size=\"5\">Si extiendo el adn linear, cuantas bp ocupar&iacute;a gcn4 solo o con co-activators? </font>"
   ]
  },
  {
   "cell_type": "markdown",
   "metadata": {
    "deletable": true,
    "editable": true
   },
   "source": [
    "<font size='4', color='red'>Elimino genes en los que TSS esta en el ORF o dist[tss-start] > 1000bp?\n",
    "\n",
    "</font>"
   ]
  },
  {
   "cell_type": "markdown",
   "metadata": {
    "deletable": true,
    "editable": true
   },
   "source": [
    "<font size='5', color='blue'>Habra correlacion entre las frecuencias de TSS con los valores de nasc. mRNA?</font>"
   ]
  },
  {
   "cell_type": "code",
   "execution_count": 18,
   "metadata": {
    "collapsed": false,
    "deletable": true,
    "editable": true
   },
   "outputs": [],
   "source": [
    "t = getFromGit('https://raw.githubusercontent.com/aerijman/gcn4_ChEC/master/Degron_Log2_table_140.csv') \n",
    "mat= []\n",
    "for line in t.split('\\n'):\n",
    "    i = line.strip().split(',')\n",
    "    mat.append(i)\n",
    "\n",
    "nasc_df = pd.DataFrame(mat)"
   ]
  },
  {
   "cell_type": "code",
   "execution_count": 19,
   "metadata": {
    "collapsed": false,
    "deletable": true,
    "editable": true,
    "scrolled": true
   },
   "outputs": [],
   "source": [
    "nasc_df.columns = nasc_df.iloc[0]\n",
    "nasc_df = nasc_df.iloc[1:,]\n",
    "nasc_df.set_index('Gene_name', inplace=True)"
   ]
  },
  {
   "cell_type": "code",
   "execution_count": 20,
   "metadata": {
    "collapsed": false,
    "deletable": true,
    "editable": true
   },
   "outputs": [],
   "source": [
    "test_df = nasc_df[['WT_control_value','WT_log2_ratio']].astype(float)\n",
    "test_df = pd.concat([test_df,sgd.TSS_frecuency_YPD],axis=1)"
   ]
  },
  {
   "cell_type": "markdown",
   "metadata": {
    "deletable": true,
    "editable": true
   },
   "source": [
    "<font><font size=\"3\"><font color=\"gray\">Aparently, there is no correlation at all between TSS_frecuencies @ Pelechano and the WT nascent RNA.</font>"
   ]
  },
  {
   "cell_type": "code",
   "execution_count": 21,
   "metadata": {
    "collapsed": false,
    "deletable": true,
    "editable": true
   },
   "outputs": [
    {
     "data": {
      "text/plain": [
       "(-100, 5000)"
      ]
     },
     "execution_count": 21,
     "metadata": {},
     "output_type": "execute_result"
    },
    {
     "data": {
      "text/plain": [
       "<matplotlib.figure.Figure at 0x7f930a8e70d0>"
      ]
     },
     "metadata": {},
     "output_type": "display_data"
    },
    {
     "data": {
      "image/png": "[encoded data removed]",
      "text/plain": [
       "<matplotlib.figure.Figure at 0x7f930a8d30d0>"
      ]
     },
     "metadata": {},
     "output_type": "display_data"
    }
   ],
   "source": [
    "plt.figure()\n",
    "test_df.plot.scatter(x = 'WT_control_value', y='TSS_frecuency_YPD')\n",
    "plt.ylim(-100,5000)"
   ]
  },
  {
   "cell_type": "code",
   "execution_count": null,
   "metadata": {
    "collapsed": true,
    "deletable": true,
    "editable": true
   },
   "outputs": [],
   "source": []
  }
 ],
 "metadata": {
  "kernelspec": {
   "display_name": "Python 2",
   "language": "python",
   "name": "python2"
  },
  "language_info": {
   "codemirror_mode": {
    "name": "ipython",
    "version": 2
   },
   "file_extension": ".py",
   "mimetype": "text/x-python",
   "name": "python",
   "nbconvert_exporter": "python",
   "pygments_lexer": "ipython2",
   "version": "2.7.3"
  }
 },
 "nbformat": 4,
 "nbformat_minor": 2
}
