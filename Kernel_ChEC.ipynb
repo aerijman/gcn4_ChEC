{
 "cells": [
  {
   "cell_type": "markdown",
   "metadata": {},
   "source": [
    "<style>\n",
    "    .text_cell_render\n",
    "    font-family: Times New Roman, serif\n",
    "    </style>\n",
    "    <font color='Black'><font size=\"5\">Encontrar modelo de distribucion de la  senal de MNase-coupled a Gcn4 y predecir posibles interacciones de Gcn4 con dif erentes CoActivators</font>"
   ]
  },
  {
   "cell_type": "code",
   "execution_count": 1,
   "metadata": {
    "collapsed": false
   },
   "outputs": [
    {
     "name": "stderr",
     "output_type": "stream",
     "text": [
      "/home/ariel/.local/lib/python2.7/site-packages/matplotlib/__init__.py:878: UserWarning: axes.color_cycle is deprecated and replaced with axes.prop_cycle; please use the latter.\n",
      "  warnings.warn(self.msg_depr % (key, alt_key))\n"
     ]
    }
   ],
   "source": [
    "%matplotlib inline\n",
    "import matplotlib.pylab as plt\n",
    "import pandas as pd\n",
    "import numpy as np\n",
    "import scipy \n",
    "import seaborn as sns\n",
    "\n",
    "from sklearn.neighbors import KernelDensity\n",
    "from sklearn.model_selection import GridSearchCV\n",
    "\n",
    "from numpy import NaN, Inf, arange, isscalar, asarray, array"
   ]
  },
  {
   "cell_type": "markdown",
   "metadata": {},
   "source": [
    "<style>\n",
    "    .text_cell_render\n",
    "    font-family: Times New Roman, serif\n",
    "</style>\n",
    "    <font color='blue'><font size=\"5\">Dictionary of Roman Numbers. Will be used to access each chromosome faster</font>"
   ]
  },
  {
   "cell_type": "code",
   "execution_count": 2,
   "metadata": {
    "collapsed": true
   },
   "outputs": [],
   "source": [
    "roman_numbers = {'I':'1','II':'2','III':'3','IV':'4','V':'5','VI':'6','VII':'7',\\\n",
    "                 'VIII':'8','IX':'9','X':'10','XI':'11','XII':'12','XIII':'13','XIV':'14',\\\n",
    "                 'XV':'15','XVI':'16','XVII':'17','M':'M'}\n",
    "\n",
    "inv_roman = {v: k for k, v in roman_numbers.iteritems()}"
   ]
  },
  {
   "cell_type": "markdown",
   "metadata": {},
   "source": [
    "<style>\n",
    "    .text_cell_render\n",
    "    font-family: Times New Roman, serif\n",
    "</style>\n",
    "    <font color='blue'><font size=\"5\">FUNC: Definir el promoter length y abrir SGD dataset</font>"
   ]
  },
  {
   "cell_type": "code",
   "execution_count": 3,
   "metadata": {
    "collapsed": true
   },
   "outputs": [],
   "source": [
    "def open_sgd(promoter_length):\n",
    "\n",
    "    # open sgd file into a dataframe\n",
    "    sgd = pd.read_csv('./SGD.tsv', delimiter='\\t')\n",
    "\n",
    "    #assign column names and use only the 'ORF' rows\n",
    "    sgd.columns = ['n0','ORF_or_what','n1','locus','gene','n2','n3','n4'\\\n",
    "                  ,'chromosome','start','stop','W/C','n5','n6','n7','n8']\n",
    "    sgd = sgd[sgd['ORF_or_what']=='ORF']\n",
    "    \n",
    "    # get rid of non-informative columns and 2-micron chromosome\n",
    "    sgd = sgd.drop(['ORF_or_what','n0','n1','n2','n3','n4','n5','n6','n7','n8'],1).set_index('locus')\n",
    "    sgd = sgd.ix[sgd.chromosome!='2-micron']\n",
    "\n",
    "    # -1 to Creek and 1 to Watson\n",
    "    sgd.loc[sgd['W/C']=='C', 'W/C']=-1\n",
    "    sgd.loc[sgd['W/C']=='W', 'W/C']=1\n",
    "    \n",
    "    # create the column 'start promoter' and replace negative numbers \\\n",
    "    # with 0 (promoters that are <600bp form the start of the chromosome)\n",
    "    sgd['start_promoter'] = sgd['start']-(sgd['W/C']*promoter_length)\n",
    "    sgd.loc[sgd['start_promoter']<0,'start_promoter']=0\n",
    "\n",
    "    #sgd['promoter_median'] = (sgd['start'] + sgd['start_promoter']) / 2\n",
    "    #sgd = sgd.sort_values(['chromosome','promoter_median'])\n",
    "    #sgd.reset_index(inplace=True)\n",
    "    \n",
    "    return sgd"
   ]
  },
  {
   "cell_type": "code",
   "execution_count": 32,
   "metadata": {
    "collapsed": true
   },
   "outputs": [],
   "source": [
    "sgd = open_sgd(600)\n",
    "sgd = sgd[sgd.chromosome.isin(map(str,range(1,17)))]"
   ]
  },
  {
   "cell_type": "markdown",
   "metadata": {},
   "source": [
    "<style>\n",
    "    .text_cell_render\n",
    "    font-family: Times New Roman, serif\n",
    "</style>\n",
    "    <font color='blue'><font size=\"5\">FUNC: Abrir wiggle file</font>"
   ]
  },
  {
   "cell_type": "code",
   "execution_count": 37,
   "metadata": {
    "collapsed": true
   },
   "outputs": [],
   "source": [
    "def open_wig(wigfile):\n",
    "\n",
    "# Open the wig file and make a pointer to where each chromosomes start\n",
    "    #wig, w_pointer = [i.strip('\\n').split('\\t')[:2] for i in open(wigfile)], {} # this was for opening files, not from github  \n",
    "    wig, w_pointer = wigfile, {}\n",
    "    wig2, n = [], 0\n",
    "    for i in wig[1:]:\n",
    "        if len(i)==1:\n",
    "            w_pointer[roman_numbers[i[0][22:]]] = n\n",
    "\n",
    "        else:\n",
    "            if int(i[1])>=0:                   ## era >=20...\n",
    "                wig2.append(i)\n",
    "                n+=1\n",
    "        \n",
    "    # the last pointer to the end of the file, when looking for a gene in chromosome 17 and there is no NEXT chromosome\n",
    "    #w_pointer['17']=n \n",
    "\n",
    "    # wig into dataframe\n",
    "    wig = pd.DataFrame(wig2)\n",
    "    wig.columns = ['position','reads']\n",
    "\n",
    "    return wig, w_pointer"
   ]
  },
  {
   "cell_type": "markdown",
   "metadata": {},
   "source": [
    "<style>\n",
    "    .text_cell_render\n",
    "    font-family: Times New Roman, serif\n",
    "</style>\n",
    "    <font color='blue'><font size=\"5\">FUNC: Dado el locus, devuelve los counts de wiggle</font>"
   ]
  },
  {
   "cell_type": "code",
   "execution_count": 5,
   "metadata": {
    "collapsed": true
   },
   "outputs": [],
   "source": [
    "def retrieve_positions(locus, sgd, wig, w_pointer):\n",
    "\n",
    "    # chromosomes as pointer for the wig file\n",
    "    this_chromosome = int(sgd[sgd.index==locus].values[0][1])\n",
    "    this = w_pointer[str(this_chromosome)]\n",
    "\n",
    "    # assign the key to NOT to be the current chromosome\n",
    "    key = [1 if this_chromosome>7 else 10][0]\n",
    "\n",
    "    # Now go and find me the closest chromosome in the wig file (they are not in order!!)\n",
    "    for i,j in w_pointer.iteritems():\n",
    "        if j-this < abs(w_pointer[str(key)]-this) and j>this and i != this_chromosome:\n",
    "            key = i \n",
    "    next = w_pointer[str(key)]\n",
    "\n",
    "    # promoter positions to find in the wig \n",
    "    promoter_positions = [int(i) for i in sgd[sgd.index==locus][['start_promoter', 'start']].as_matrix()[0]]\n",
    "    \n",
    "    # In case the gene is in the Creek direction\n",
    "    if sgd[sgd.index==locus]['W/C'].values[0]==-1:\n",
    "        promoter_positions = [promoter_positions[1],promoter_positions[0]]\n",
    "\n",
    "    # restricting the wig to the chromosome and the positions \n",
    "    Gene_df =  wig[(wig.index > this) & (wig.index < next)]\n",
    "\n",
    "    # Only if the wig file contains counts for this gene, otherwise return False!\n",
    "    if Gene_df.position.empty == False:\n",
    "        Gene_df = Gene_df[(Gene_df.position.astype(int)>promoter_positions[0]) & (Gene_df.position.astype(int)<promoter_positions[1])]\n",
    "        return Gene_df.astype(int)\n",
    "    else:\n",
    "        return pd.DataFrame([])"
   ]
  },
  {
   "cell_type": "markdown",
   "metadata": {},
   "source": [
    "<style>\n",
    "    .text_cell_render\n",
    "    font-family: Times New Roman, serif\n",
    "</style>\n",
    "    <font color='blue'><font size=\"5\">FUNC: Lee archivo de Github</font>"
   ]
  },
  {
   "cell_type": "code",
   "execution_count": 6,
   "metadata": {
    "collapsed": true
   },
   "outputs": [],
   "source": [
    "def getFromGit(link):\n",
    "    \n",
    "        from html2text import html2text\n",
    "        import requests\n",
    "    \n",
    "        f = requests.get(link)\n",
    "    \n",
    "        return f.text.encode('ascii','replace')"
   ]
  },
  {
   "cell_type": "markdown",
   "metadata": {},
   "source": [
    "<style>\n",
    "    .text_cell_render\n",
    "    font-family: Times New Roman, serif\n",
    "</style>\n",
    "    <font color='blue'><font size=\"5\">FUNC: Busco la bw optima para el kernel</font>"
   ]
  },
  {
   "cell_type": "code",
   "execution_count": 66,
   "metadata": {
    "collapsed": true
   },
   "outputs": [],
   "source": [
    "def find_Kernel_best_bandwidth(x,y):\n",
    "\n",
    "    # Prepare \"histogram-like\" data\n",
    "    histo = []\n",
    "    for i in range(len(y)):\n",
    "        for j in range(y[i]):\n",
    "            histo.append(x[i])\n",
    "    histo = np.array(histo)\n",
    "\n",
    "    #Check which is the best bandwidth to use with 20 steps of cross-validation\n",
    "    grid = GridSearchCV(KernelDensity(),{'bandwidth': np.linspace(10,100,10)}, cv=9)\n",
    "    grid.fit(histo[:,None])\n",
    "\n",
    "    return grid.best_params_.values()[0]"
   ]
  },
  {
   "cell_type": "markdown",
   "metadata": {},
   "source": [
    "<style>\n",
    "    .text_cell_render\n",
    "    font-family: Times New Roman, serif\n",
    "</style>\n",
    "    <font color='blue'><font size=\"5\">FUNC: devuelve PDF</font>"
   ]
  },
  {
   "cell_type": "code",
   "execution_count": 65,
   "metadata": {
    "collapsed": true
   },
   "outputs": [],
   "source": [
    "def kernelPDF(x, y, bandwidth=50, kernel_choose='epanechnikov'):\n",
    "\n",
    "    # Prepare \"histogram-like\" data\n",
    "    histo = []\n",
    "    for i in range(len(y)):\n",
    "        for j in range(y[i]):\n",
    "            histo.append(x[i])\n",
    "\n",
    "    histo = np.array(histo)\n",
    "    \n",
    "    # Kernel Density Estimation with Scikit-learn\n",
    "    kde = KernelDensity(kernel=kernel_choose, bandwidth=bandwidth).fit(histo[:,np.newaxis])\n",
    "    pdf = np.exp(kde.score_samples(x[:,np.newaxis]))*10000\n",
    "        \n",
    "    return pdf"
   ]
  },
  {
   "cell_type": "markdown",
   "metadata": {},
   "source": [
    "<style>\n",
    "    .text_cell_render\n",
    "    font-family: Times New Roman, serif\n",
    "</style>\n",
    "    <font color='blue'><font size=\"5\">Leo wiggle de Github y lo almaceno en una df</font>"
   ]
  },
  {
   "cell_type": "code",
   "execution_count": 38,
   "metadata": {
    "collapsed": false
   },
   "outputs": [],
   "source": [
    "wig = getFromGit('https://raw.githubusercontent.com/aerijman/gcn4_ChEC/master/extremes_27.wig')\n",
    "\n",
    "mat=[]\n",
    "for i in wig.split('\\n'):\n",
    "    mat.append(i.strip().split('\\t')[:2])\n",
    "    \n",
    "df_wig, pointer_wig = open_wig(mat[:-1])"
   ]
  },
  {
   "cell_type": "code",
   "execution_count": 115,
   "metadata": {
    "collapsed": false
   },
   "outputs": [
    {
     "name": "stdout",
     "output_type": "stream",
     "text": [
      "locus\n",
      "YCL009C    -1\n",
      "Name: W/C, dtype: object\n"
     ]
    },
    {
     "data": {
      "text/plain": [
       "[<matplotlib.lines.Line2D at 0x7f74dbd8bdd0>]"
      ]
     },
     "execution_count": 115,
     "metadata": {},
     "output_type": "execute_result"
    },
    {
     "data": {
      "image/png": "[encoded data removed]",
      "text/plain": [
       "<matplotlib.figure.Figure at 0x7f74db8e86d0>"
      ]
     },
     "metadata": {},
     "output_type": "display_data"
    }
   ],
   "source": [
    "gene = 'ILV6'\n",
    "gene_df = retrieve_positions(sgd[sgd.gene==gene].index[0], sgd, df_wig, pointer_wig)\n",
    "print sgd.loc[sgd.gene==gene, 'W/C']\n",
    "\n",
    "(x,y) =  zip(*[(i[0], i[1]) for i in gene_df[['position','reads']].values])\n",
    "x,y = np.array(x, dtype=int), np.array(y, dtype=int)\n",
    "best_bw = find_Kernel_best_bandwidth(x,y)\n",
    "kernel = kernelPDF(x,y,90)\n",
    "\n",
    "gene_df.plot.area(x='position', y='reads')\n",
    "plt.plot(x,kernel, color=\"r\")\n",
    "plt.title(gene, color='b')\n",
    "xx,yy = 105829, 60\n",
    "plt.plot(xx,yy, \"o\", color='g')"
   ]
  },
  {
   "cell_type": "code",
   "execution_count": null,
   "metadata": {
    "collapsed": true
   },
   "outputs": [],
   "source": []
  }
 ],
 "metadata": {
  "kernelspec": {
   "display_name": "Python 2",
   "language": "python",
   "name": "python2"
  },
  "language_info": {
   "codemirror_mode": {
    "name": "ipython",
    "version": 2
   },
   "file_extension": ".py",
   "mimetype": "text/x-python",
   "name": "python",
   "nbconvert_exporter": "python",
   "pygments_lexer": "ipython2",
   "version": "2.7.12"
  }
 },
 "nbformat": 4,
 "nbformat_minor": 2
}
